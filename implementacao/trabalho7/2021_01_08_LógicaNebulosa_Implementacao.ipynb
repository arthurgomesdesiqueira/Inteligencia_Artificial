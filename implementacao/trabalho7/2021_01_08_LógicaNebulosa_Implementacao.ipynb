{
  "nbformat": 4,
  "nbformat_minor": 0,
  "metadata": {
    "colab": {
      "name": "2021_01_08_LógicaNebulosa_Implementacao.ipynb",
      "provenance": [],
      "collapsed_sections": []
    },
    "kernelspec": {
      "name": "python3",
      "display_name": "Python 3"
    }
  },
  "cells": [
    {
      "cell_type": "markdown",
      "metadata": {
        "id": "mLKPZajBKe3L"
      },
      "source": [
        "**Instituto de Informática - UFG**\n",
        "\n",
        "Disciplina: Inteligência Artificial\n",
        "\n",
        "Prof. Cedric Luiz de Carvalho\n",
        "\n",
        "\n",
        "Grupo ( D )\n",
        "\n",
        "---\n",
        "\n",
        "\n",
        "Aluna(o): Arthur Gomes de Siqueira\n",
        "\n",
        "---\n",
        "\n",
        "Aluna(o): Ricardo Ataide de Oliveira Junior\n",
        "\n",
        "---"
      ]
    },
    {
      "cell_type": "markdown",
      "metadata": {
        "id": "o_bZhd8FMiSa"
      },
      "source": [
        "#Especificação do problema : Lógica nebulosa"
      ]
    },
    {
      "cell_type": "markdown",
      "metadata": {
        "id": "YTE0x5IrTiwN"
      },
      "source": [
        "O setor de aluguéis de imóveis movimenta milhões por ano. Com a pandemia do coronavírus, esse setor tem sido forçado a se reinventar, uma vez que o contato direto (presencial) entre os interessados em alugar um imóvel e os corretores tem sido prejudicado. Você foi contratado por uma empresa do setor para projetar e implementar um sistema que faça sugestões para os clientes de imóveis que possam ser do seu interesse. \n",
        "\n",
        "Utilizando a base de dados [brazilian_houses_to_rent](https://www.kaggle.com/rubenssjr/brasilian-houses-to-rent), projete e implemente um sistema de recomendação, baseado em lógica nebulosa, que identifique os imóveis mais adequados às necessidades de um determinado cliente.\n",
        "\n",
        "Nesse projeto, devem ser identificadas as variáveis de entrada nebulosas, as quais devem ter, no mínimo, três faixas valores. Também deve ser definida uma variável de saída que indique a probabilidade do cliente se interessar por um dado imóvel.\n",
        "\n"
      ]
    },
    {
      "cell_type": "markdown",
      "metadata": {
        "id": "em9Np5IMRkqS"
      },
      "source": [
        "## O trabalho"
      ]
    },
    {
      "cell_type": "markdown",
      "metadata": {
        "id": "TgDeaesIRtzJ"
      },
      "source": [
        "O trabalho deve ser feito em grupos, conforme definido. Cada grupo deverá entregar apenas um produto final para ser avaliado pelo professor. Apesar do trabalho ser feito em grupos, a avaliação de cada aluno será feita individualmente.\n"
      ]
    },
    {
      "cell_type": "markdown",
      "metadata": {
        "id": "vgmMVeMmGQWa"
      },
      "source": [
        "**Recomendações:**\n",
        "\n",
        "   O primeiro passo para resolver um problema é entendê-lo muito bem, considerar o contexto e fazer as abstrações necessárias. A seguir, para não \"reinventar a roda\" é preciso identificar como a comunidade resolveu o problema em questão, ou problemas parecidos, cuja solução possa ser mapeada para situação em análise. Desta forma, deve ser feito um estudo, o mais amplo possível sobre esse assunto. O próximo passo é o grupo se reunir e instanciar o modelo em estudo para o caso específico do problema a ser resolvido. Em paralelo, uma análise rigorosa deve ser feita na base de dados a fim de prepará-la para seu uso no modelo. Finalmente, com o modelo bem compreendido e instanciado e os dados devidamente preparados, a implementação do modelo pode ser feita.\n",
        "   \n",
        "    "
      ]
    },
    {
      "cell_type": "markdown",
      "metadata": {
        "id": "8Cr8udvqSKD9"
      },
      "source": [
        "## Divisão de papéis:"
      ]
    },
    {
      "cell_type": "markdown",
      "metadata": {
        "id": "6i831PNuJiPG"
      },
      "source": [
        "* **Analista de dados:** deverá ficar responsável por fazer uma \"Análise Exploratória de Dados\" (AED), analisando a base de dados fornecida e preparando-a para ser usada na solução do problema. Esta análise deve produzir diversos gráficos que pemitam uma visão geral do comportamento dos dados.\n",
        "\n",
        "* **Engenheiro de conhecimento:** deverá produzir a solução para o problema, utilizando a técnica estudada, o modelo proposto pelo grupo e a base de dados preparada pelo analista de dados.\n",
        "\n"
      ]
    },
    {
      "cell_type": "markdown",
      "metadata": {
        "id": "WEpLciSUSVlR"
      },
      "source": [
        "### Primeira etapa:"
      ]
    },
    {
      "cell_type": "markdown",
      "metadata": {
        "id": "ugeUfo04SYN_"
      },
      "source": [
        "(1) **Notebook descrevendo detalhadamente o modelo:**\n",
        "* Um modelo é uma representação abstrata do mundo. No nosso caso, o \"mundo\" é o contexto onde o problema se insere. Desta forma, deve ser analisado com cuidado o que deve e o que não deve ser considerado. Por exemplo, se a base de dados tem 30 colunas, todas elas deverão ser utilizadas na implementação? Algumas poderão ser desconsideradas? Por quê?\n",
        "* Para utilizar a técnica em estudo, é preciso conhecê-la muito bem. Assim, nesta etapa, **deve ser feita uma descrição detalhada do problema e da técnica a ser utilizada.**\n",
        "* Deve ser elaborado um modelo com base na técnica em estudo.\n",
        "* O notebook, descrevendo o problema, a técnica em questão e o modelo elaborado deverá ser submetido na Plataforma Turing, até dia 20/10/2021. Os modelos serão discutidos com a turma no dia 21/10/2021."
      ]
    },
    {
      "cell_type": "markdown",
      "metadata": {
        "id": "Tr1jkl8LSedN"
      },
      "source": [
        "### Segunda etapa:"
      ]
    },
    {
      "cell_type": "markdown",
      "metadata": {
        "id": "MoRU9zH8SjtE"
      },
      "source": [
        "(2) **Notebook contendo a Análise Exploratória dos Dados**\n",
        "\n",
        "(3) **Notebook contendo a solução para o problema** \n",
        "\n",
        "(4) **Um vídeo explicando detalhadamente como a técnica estudada foi utilizada para resolver o problema proposto** . O vídeo NÃO deve ser uma apresentação do notebook nem deve apresentar detalhes de codificação. Deve trazer uma descrição do problema, do modelo utilizado e da solução desenvolvida, de preferência utilizando slides ou algo parecido. Preferencialmente, o grupo deve enviar um *link* para o local onde o vídeo está armazenado.\n",
        "\n",
        "\n",
        "**Observação:** poderão ser utilizados códigos desenvolvidos pelo grupo e/ou códigos de terceiros. No caso de se usar códigos desenvolvidos por terceiros, o autor desses códigos deve ser devidamente referenciado e os códigos devem ser devidamente documentados (comentários no próprio código e fora dele).\n",
        "\n",
        "Os produtos da segunda etapa deverão ser submetidos na Plataforma Turing até 25/10/2021.\n",
        " "
      ]
    },
    {
      "cell_type": "markdown",
      "metadata": {
        "id": "b4k8NaE6a5NK"
      },
      "source": [
        "# Video\n",
        "\n",
        "Link: https://drive.google.com/file/d/12tFjCdG_vuxRFetQMe4V1TtEFVZbmjVn/view?usp=sharing"
      ]
    },
    {
      "cell_type": "markdown",
      "metadata": {
        "id": "lcxbysrdFdZV"
      },
      "source": [
        "# Implementação"
      ]
    },
    {
      "cell_type": "code",
      "metadata": {
        "colab": {
          "base_uri": "https://localhost:8080/"
        },
        "id": "mT8ba2jsupfF",
        "outputId": "d4a53210-a301-4ebd-861c-d1413081073f"
      },
      "source": [
        "import pandas as pd\n",
        "#Monte o drive no colab\n",
        "from google.colab import drive\n",
        "drive.mount('/content/drive')"
      ],
      "execution_count": null,
      "outputs": [
        {
          "output_type": "stream",
          "name": "stdout",
          "text": [
            "Mounted at /content/drive\n"
          ]
        }
      ]
    },
    {
      "cell_type": "code",
      "metadata": {
        "colab": {
          "resources": {
            "http://localhost:8080/nbextensions/google.colab/files.js": {
              "data": "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",
              "ok": true,
              "headers": [
                [
                  "content-type",
                  "application/javascript"
                ]
              ],
              "status": 200,
              "status_text": ""
            }
          },
          "base_uri": "https://localhost:8080/",
          "height": 72
        },
        "id": "RTm7gAhDElMu",
        "outputId": "b875a45a-06e2-47b4-fa3d-2d6f2398b43b"
      },
      "source": [
        "#Fazendo upload dos arquivos\n",
        "from google.colab import files\n",
        "uploaded = files.upload()"
      ],
      "execution_count": 90,
      "outputs": [
        {
          "output_type": "display_data",
          "data": {
            "text/html": [
              "\n",
              "     <input type=\"file\" id=\"files-d1a002d2-98d6-42b5-986c-67961f7f1c37\" name=\"files[]\" multiple disabled\n",
              "        style=\"border:none\" />\n",
              "     <output id=\"result-d1a002d2-98d6-42b5-986c-67961f7f1c37\">\n",
              "      Upload widget is only available when the cell has been executed in the\n",
              "      current browser session. Please rerun this cell to enable.\n",
              "      </output>\n",
              "      <script src=\"/nbextensions/google.colab/files.js\"></script> "
            ],
            "text/plain": [
              "<IPython.core.display.HTML object>"
            ]
          },
          "metadata": {}
        },
        {
          "output_type": "stream",
          "name": "stdout",
          "text": [
            "Saving houses_to_rent.csv to houses_to_rent.csv\n"
          ]
        }
      ]
    },
    {
      "cell_type": "code",
      "metadata": {
        "id": "L4jmobnaElcd"
      },
      "source": [
        "import pandas as pd"
      ],
      "execution_count": 91,
      "outputs": []
    },
    {
      "cell_type": "code",
      "metadata": {
        "id": "kxBHZ7_BEllg"
      },
      "source": [
        "#pegando a base de dados\n",
        "df = pd.read_csv('houses_to_rent.csv')"
      ],
      "execution_count": 98,
      "outputs": []
    },
    {
      "cell_type": "code",
      "metadata": {
        "id": "Vx9b49WlFJji"
      },
      "source": [
        "#consertando a base de dados\n",
        "df['hoa'].replace({'Sem info' : 'R$0', 'Incluso' : 'R$0'}, inplace = True)\n",
        "df['animal'].replace({'not acept' : '0', 'acept' : '1'}, inplace = True)\n",
        "df['furniture'].replace({'not furnished' : '0', 'furnished' : '1'}, inplace = True)\n",
        "df['floor'].replace({'-' : '0'}, inplace = True)\n",
        "df['property tax'].replace({'Incluso' : 'R$0'}, inplace = True)\n",
        "df = df.rename({'Unnamed: 0' : 'id'}, axis = 1)\n",
        "#df.drop(columns=[\"Unnamed: 0\"], inplace = True)\n",
        "df=df.replace('R','',regex=True)\n",
        "df=df.replace(',','',regex=True)\n"
      ],
      "execution_count": 99,
      "outputs": []
    },
    {
      "cell_type": "code",
      "metadata": {
        "colab": {
          "base_uri": "https://localhost:8080/"
        },
        "id": "WCfk2dCtSnor",
        "outputId": "235b0011-f9b9-40d2-f618-12c3fc0ea1cb"
      },
      "source": [
        "\n",
        "#tirando o $\n",
        "for column in df.columns[-5:]:\n",
        "  df[column] = df[column].apply(lambda x : x[1:len(x)])\n",
        "\n",
        "#mudando o tipo da coluna de object para int64\n",
        "for column in df.columns:\n",
        "  print(column, df[column].dtype)\n",
        "  if df[column].dtype == \"object\":\n",
        "    df[column] = df[column].astype(\"int64\")"
      ],
      "execution_count": 100,
      "outputs": [
        {
          "output_type": "stream",
          "name": "stdout",
          "text": [
            "id int64\n",
            "city int64\n",
            "area int64\n",
            "rooms int64\n",
            "bathroom int64\n",
            "parking spaces int64\n",
            "floor object\n",
            "animal object\n",
            "furniture object\n",
            "hoa object\n",
            "rent amount object\n",
            "property tax object\n",
            "fire insurance object\n",
            "total object\n"
          ]
        }
      ]
    },
    {
      "cell_type": "code",
      "metadata": {
        "colab": {
          "base_uri": "https://localhost:8080/",
          "height": 419
        },
        "id": "0KCOI2lqXZSm",
        "outputId": "938fc03c-996e-47f6-b52f-6b7959f0195f"
      },
      "source": [
        "df"
      ],
      "execution_count": 101,
      "outputs": [
        {
          "output_type": "execute_result",
          "data": {
            "text/html": [
              "<div>\n",
              "<style scoped>\n",
              "    .dataframe tbody tr th:only-of-type {\n",
              "        vertical-align: middle;\n",
              "    }\n",
              "\n",
              "    .dataframe tbody tr th {\n",
              "        vertical-align: top;\n",
              "    }\n",
              "\n",
              "    .dataframe thead th {\n",
              "        text-align: right;\n",
              "    }\n",
              "</style>\n",
              "<table border=\"1\" class=\"dataframe\">\n",
              "  <thead>\n",
              "    <tr style=\"text-align: right;\">\n",
              "      <th></th>\n",
              "      <th>id</th>\n",
              "      <th>city</th>\n",
              "      <th>area</th>\n",
              "      <th>rooms</th>\n",
              "      <th>bathroom</th>\n",
              "      <th>parking spaces</th>\n",
              "      <th>floor</th>\n",
              "      <th>animal</th>\n",
              "      <th>furniture</th>\n",
              "      <th>hoa</th>\n",
              "      <th>rent amount</th>\n",
              "      <th>property tax</th>\n",
              "      <th>fire insurance</th>\n",
              "      <th>total</th>\n",
              "    </tr>\n",
              "  </thead>\n",
              "  <tbody>\n",
              "    <tr>\n",
              "      <th>0</th>\n",
              "      <td>0</td>\n",
              "      <td>1</td>\n",
              "      <td>240</td>\n",
              "      <td>3</td>\n",
              "      <td>3</td>\n",
              "      <td>4</td>\n",
              "      <td>0</td>\n",
              "      <td>1</td>\n",
              "      <td>1</td>\n",
              "      <td>0</td>\n",
              "      <td>8000</td>\n",
              "      <td>1000</td>\n",
              "      <td>121</td>\n",
              "      <td>9121</td>\n",
              "    </tr>\n",
              "    <tr>\n",
              "      <th>1</th>\n",
              "      <td>1</td>\n",
              "      <td>0</td>\n",
              "      <td>64</td>\n",
              "      <td>2</td>\n",
              "      <td>1</td>\n",
              "      <td>1</td>\n",
              "      <td>10</td>\n",
              "      <td>1</td>\n",
              "      <td>0</td>\n",
              "      <td>540</td>\n",
              "      <td>820</td>\n",
              "      <td>122</td>\n",
              "      <td>11</td>\n",
              "      <td>1493</td>\n",
              "    </tr>\n",
              "    <tr>\n",
              "      <th>2</th>\n",
              "      <td>2</td>\n",
              "      <td>1</td>\n",
              "      <td>443</td>\n",
              "      <td>5</td>\n",
              "      <td>5</td>\n",
              "      <td>4</td>\n",
              "      <td>3</td>\n",
              "      <td>1</td>\n",
              "      <td>1</td>\n",
              "      <td>4172</td>\n",
              "      <td>7000</td>\n",
              "      <td>1417</td>\n",
              "      <td>89</td>\n",
              "      <td>12680</td>\n",
              "    </tr>\n",
              "    <tr>\n",
              "      <th>3</th>\n",
              "      <td>3</td>\n",
              "      <td>1</td>\n",
              "      <td>73</td>\n",
              "      <td>2</td>\n",
              "      <td>2</td>\n",
              "      <td>1</td>\n",
              "      <td>12</td>\n",
              "      <td>1</td>\n",
              "      <td>0</td>\n",
              "      <td>700</td>\n",
              "      <td>1250</td>\n",
              "      <td>150</td>\n",
              "      <td>16</td>\n",
              "      <td>2116</td>\n",
              "    </tr>\n",
              "    <tr>\n",
              "      <th>4</th>\n",
              "      <td>4</td>\n",
              "      <td>1</td>\n",
              "      <td>19</td>\n",
              "      <td>1</td>\n",
              "      <td>1</td>\n",
              "      <td>0</td>\n",
              "      <td>0</td>\n",
              "      <td>0</td>\n",
              "      <td>0</td>\n",
              "      <td>0</td>\n",
              "      <td>1200</td>\n",
              "      <td>41</td>\n",
              "      <td>16</td>\n",
              "      <td>1257</td>\n",
              "    </tr>\n",
              "    <tr>\n",
              "      <th>...</th>\n",
              "      <td>...</td>\n",
              "      <td>...</td>\n",
              "      <td>...</td>\n",
              "      <td>...</td>\n",
              "      <td>...</td>\n",
              "      <td>...</td>\n",
              "      <td>...</td>\n",
              "      <td>...</td>\n",
              "      <td>...</td>\n",
              "      <td>...</td>\n",
              "      <td>...</td>\n",
              "      <td>...</td>\n",
              "      <td>...</td>\n",
              "      <td>...</td>\n",
              "    </tr>\n",
              "    <tr>\n",
              "      <th>6075</th>\n",
              "      <td>6075</td>\n",
              "      <td>1</td>\n",
              "      <td>50</td>\n",
              "      <td>2</td>\n",
              "      <td>1</td>\n",
              "      <td>1</td>\n",
              "      <td>2</td>\n",
              "      <td>1</td>\n",
              "      <td>0</td>\n",
              "      <td>420</td>\n",
              "      <td>1150</td>\n",
              "      <td>0</td>\n",
              "      <td>15</td>\n",
              "      <td>1585</td>\n",
              "    </tr>\n",
              "    <tr>\n",
              "      <th>6076</th>\n",
              "      <td>6076</td>\n",
              "      <td>1</td>\n",
              "      <td>84</td>\n",
              "      <td>2</td>\n",
              "      <td>2</td>\n",
              "      <td>1</td>\n",
              "      <td>16</td>\n",
              "      <td>0</td>\n",
              "      <td>1</td>\n",
              "      <td>768</td>\n",
              "      <td>2900</td>\n",
              "      <td>63</td>\n",
              "      <td>37</td>\n",
              "      <td>3768</td>\n",
              "    </tr>\n",
              "    <tr>\n",
              "      <th>6077</th>\n",
              "      <td>6077</td>\n",
              "      <td>0</td>\n",
              "      <td>48</td>\n",
              "      <td>1</td>\n",
              "      <td>1</td>\n",
              "      <td>0</td>\n",
              "      <td>13</td>\n",
              "      <td>1</td>\n",
              "      <td>0</td>\n",
              "      <td>250</td>\n",
              "      <td>950</td>\n",
              "      <td>42</td>\n",
              "      <td>13</td>\n",
              "      <td>1255</td>\n",
              "    </tr>\n",
              "    <tr>\n",
              "      <th>6078</th>\n",
              "      <td>6078</td>\n",
              "      <td>1</td>\n",
              "      <td>160</td>\n",
              "      <td>3</td>\n",
              "      <td>2</td>\n",
              "      <td>2</td>\n",
              "      <td>0</td>\n",
              "      <td>0</td>\n",
              "      <td>0</td>\n",
              "      <td>0</td>\n",
              "      <td>3500</td>\n",
              "      <td>250</td>\n",
              "      <td>53</td>\n",
              "      <td>3803</td>\n",
              "    </tr>\n",
              "    <tr>\n",
              "      <th>6079</th>\n",
              "      <td>6079</td>\n",
              "      <td>1</td>\n",
              "      <td>60</td>\n",
              "      <td>2</td>\n",
              "      <td>1</td>\n",
              "      <td>1</td>\n",
              "      <td>4</td>\n",
              "      <td>1</td>\n",
              "      <td>1</td>\n",
              "      <td>489</td>\n",
              "      <td>1900</td>\n",
              "      <td>0</td>\n",
              "      <td>25</td>\n",
              "      <td>2414</td>\n",
              "    </tr>\n",
              "  </tbody>\n",
              "</table>\n",
              "<p>6080 rows × 14 columns</p>\n",
              "</div>"
            ],
            "text/plain": [
              "        id  city  area  rooms  ...  rent amount  property tax  fire insurance  total\n",
              "0        0     1   240      3  ...         8000          1000             121   9121\n",
              "1        1     0    64      2  ...          820           122              11   1493\n",
              "2        2     1   443      5  ...         7000          1417              89  12680\n",
              "3        3     1    73      2  ...         1250           150              16   2116\n",
              "4        4     1    19      1  ...         1200            41              16   1257\n",
              "...    ...   ...   ...    ...  ...          ...           ...             ...    ...\n",
              "6075  6075     1    50      2  ...         1150             0              15   1585\n",
              "6076  6076     1    84      2  ...         2900            63              37   3768\n",
              "6077  6077     0    48      1  ...          950            42              13   1255\n",
              "6078  6078     1   160      3  ...         3500           250              53   3803\n",
              "6079  6079     1    60      2  ...         1900             0              25   2414\n",
              "\n",
              "[6080 rows x 14 columns]"
            ]
          },
          "metadata": {},
          "execution_count": 101
        }
      ]
    },
    {
      "cell_type": "markdown",
      "metadata": {
        "id": "5PMwoymsPfA1"
      },
      "source": [
        "*   **Antecedentes** (entradas)\n",
        "\n",
        "  - **Área** \n",
        "\n",
        "      - universo: tamanho da área do imóvel, em escala 10 a 1000?\n",
        "      - conjunto nebuloso: pequeno, médio e grande.\n",
        "  \n",
        " -  **Preço**\n",
        "\n",
        "       - universo: valor total do condomínio, aluguel, imposto e seguro, em escala de R$1000 a R$17000?\n",
        "       - conjunto nebuloso: baixo, médio, alto\n",
        "       \n",
        "*   **Consequentes** (saídas)\n",
        "        \n",
        "   - **Compra**\n",
        "   \n",
        "        - universo: a compra do imóvel, em escala de 0% a 100%.\n",
        "        - conjunto nebuloso: baixa, média, alta.\n",
        "        \n",
        "*  **Regras**\n",
        "\n",
        "  - SE a **Área** for grande OU o **Preço** for pequeno, ENTÃO a **Compra** será alta\n",
        "  - SE a **Área** for pequena E o **Preço** for alto, ENTÃO a **Compra** será baixa\n",
        "  - SE a **Área** for média E o **Preço** for médio, ENTÃO a **Compra** será média.\n",
        "\n",
        "*  **Exemplo**\n",
        "\n",
        "  - Área de um imóvel é 800\n",
        "  - Valor total equivale a R$2000\n",
        "  \n",
        "  Recomendaria: \n",
        "  - Compra entre 70% e 85% \n",
        "\n",
        "A chance de compra fica entre 70% e 85% porque a área é considerada grande e o preço é médio tendo uma boa relevância, com isso, podemos considerar uma boa chance de compra."
      ]
    },
    {
      "cell_type": "markdown",
      "metadata": {
        "id": "b0GrX44tUXpc"
      },
      "source": [
        "## Implementacao com a API"
      ]
    },
    {
      "cell_type": "code",
      "metadata": {
        "id": "i0BBLeJxUEDS"
      },
      "source": [
        "!pip install -U scikit-fuzzy"
      ],
      "execution_count": null,
      "outputs": []
    },
    {
      "cell_type": "code",
      "metadata": {
        "id": "SRxdE40uUEF2"
      },
      "source": [
        "import numpy as np\n",
        "import skfuzzy as fuzz\n",
        "from skfuzzy import control as ctrl"
      ],
      "execution_count": 102,
      "outputs": []
    },
    {
      "cell_type": "code",
      "metadata": {
        "id": "c_fx2vGgUEI1"
      },
      "source": [
        "# Declaram dos objetos Antecedentes\n",
        "area = ctrl.Antecedent(np.arange(10, 1001, 1), 'area') #variável area : 1 - 1000\n",
        "total = ctrl.Antecedent(np.arange(1000, 17001, 1), 'total') #variavel total : 1000 - 17000\n",
        "rooms = ctrl.Antecedent(np.arange(1, 9, 1), 'rooms') #variável rooms : 1 - 8\n",
        "floor = ctrl.Antecedent(np.arange(1, 100, 1), 'floor') #variável floor : 1 - 99\n",
        "bathroom = ctrl.Antecedent(np.arange(1, 8, 1), 'bathroom') #variavel bathroom : 1 - 7\n",
        "parking_space = ctrl.Antecedent(np.arange(0, 9, 1), 'parking_space') #variável parking_space 0 - 8\n",
        "\n",
        "#Declaram dos objetos Consequentes\n",
        "compra = ctrl.Consequent(np.arange(0, 101, 1), 'compra') #variavel compra"
      ],
      "execution_count": 103,
      "outputs": []
    },
    {
      "cell_type": "code",
      "metadata": {
        "id": "yICcxszOUEVK"
      },
      "source": [
        "# Inserção de valores para função de auto-pertinência, entao ele gera automaticamente os valores\n",
        "\n",
        "rooms.automf(3)\n",
        "bathroom.automf(3)\n",
        "parking_space.automf(3)"
      ],
      "execution_count": 104,
      "outputs": []
    },
    {
      "cell_type": "code",
      "metadata": {
        "id": "p5BAZL1XUf51"
      },
      "source": [
        "# Inserção de valores para função de pertinência de forma manual, a gente customiza as variaveis\n",
        "\n",
        "area['poor'] = fuzz.trimf(area.universe, [10, 10, 100])\n",
        "area['average'] = fuzz.trimf(area.universe, [10, 100, 1000])\n",
        "area['good'] = fuzz.trimf(area.universe, [100, 1000, 1000])\n",
        "\n",
        "total['low'] = fuzz.trimf(total.universe, [1000, 1000, 5000])\n",
        "total['medium'] = fuzz.trimf(total.universe, [1000, 5000, 17000])\n",
        "total['high'] = fuzz.trimf(total.universe, [5000, 17000, 17000])\n",
        "\n",
        "floor['low'] = fuzz.trimf(floor.universe, [1, 1, 10])\n",
        "floor['medium'] = fuzz.trimf(floor.universe, [1, 10, 99])\n",
        "floor['high'] = fuzz.trimf(floor.universe, [10, 99, 99])\n",
        "\n",
        "compra['low'] = fuzz.trimf(compra.universe, [0, 0, 30])\n",
        "compra['medium'] = fuzz.trimf(compra.universe, [0, 30, 100])\n",
        "compra['high'] = fuzz.trimf(compra.universe, [30, 100, 100])"
      ],
      "execution_count": 105,
      "outputs": []
    },
    {
      "cell_type": "code",
      "metadata": {
        "colab": {
          "base_uri": "https://localhost:8080/",
          "height": 281
        },
        "id": "X6mONq8lUf8R",
        "outputId": "6b70bf0f-7128-42c2-bec9-de3a86f8c2fd"
      },
      "source": [
        "# Visualicao das nossas variaveis antecedentes e consequentes\n",
        "\n",
        "total.view()"
      ],
      "execution_count": 106,
      "outputs": [
        {
          "output_type": "display_data",
          "data": {
            "image/png": "[encoded data removed]",
            "text/plain": [
              "<Figure size 432x288 with 1 Axes>"
            ]
          },
          "metadata": {
            "needs_background": "light"
          }
        }
      ]
    },
    {
      "cell_type": "code",
      "metadata": {
        "colab": {
          "base_uri": "https://localhost:8080/",
          "height": 281
        },
        "id": "4TggGjsfUf-f",
        "outputId": "1a7ac0c2-ac54-4303-839a-43ffb373e0aa"
      },
      "source": [
        "area['average'].view()"
      ],
      "execution_count": 107,
      "outputs": [
        {
          "output_type": "display_data",
          "data": {
            "image/png": "[encoded data removed]",
            "text/plain": [
              "<Figure size 432x288 with 1 Axes>"
            ]
          },
          "metadata": {
            "needs_background": "light"
          }
        }
      ]
    },
    {
      "cell_type": "code",
      "metadata": {
        "colab": {
          "base_uri": "https://localhost:8080/",
          "height": 281
        },
        "id": "Qj7QDaAsUgBI",
        "outputId": "f51013d0-a840-43b3-a8a4-30e934580b2b"
      },
      "source": [
        "compra.view()"
      ],
      "execution_count": 108,
      "outputs": [
        {
          "output_type": "display_data",
          "data": {
            "image/png": "[encoded data removed]",
            "text/plain": [
              "<Figure size 432x288 with 1 Axes>"
            ]
          },
          "metadata": {
            "needs_background": "light"
          }
        }
      ]
    },
    {
      "cell_type": "code",
      "metadata": {
        "colab": {
          "base_uri": "https://localhost:8080/",
          "height": 281
        },
        "id": "bM-97IFZj_2B",
        "outputId": "b8a513e9-e4be-4a07-8081-86ad095d2f2e"
      },
      "source": [
        "rooms.view()"
      ],
      "execution_count": 109,
      "outputs": [
        {
          "output_type": "display_data",
          "data": {
            "image/png": "[encoded data removed]",
            "text/plain": [
              "<Figure size 432x288 with 1 Axes>"
            ]
          },
          "metadata": {
            "needs_background": "light"
          }
        }
      ]
    },
    {
      "cell_type": "code",
      "metadata": {
        "colab": {
          "base_uri": "https://localhost:8080/",
          "height": 281
        },
        "id": "-9jyy6Rpj-KR",
        "outputId": "9e2b3701-1adb-43a7-dc11-d4c152432986"
      },
      "source": [
        "bathroom.view()"
      ],
      "execution_count": 110,
      "outputs": [
        {
          "output_type": "display_data",
          "data": {
            "image/png": "[encoded data removed]",
            "text/plain": [
              "<Figure size 432x288 with 1 Axes>"
            ]
          },
          "metadata": {
            "needs_background": "light"
          }
        }
      ]
    },
    {
      "cell_type": "code",
      "metadata": {
        "colab": {
          "base_uri": "https://localhost:8080/",
          "height": 282
        },
        "id": "8CBsCH-Hj77J",
        "outputId": "81c6152e-2810-4638-dae3-05d8bf9cb061"
      },
      "source": [
        "parking_space.view()"
      ],
      "execution_count": 111,
      "outputs": [
        {
          "output_type": "display_data",
          "data": {
            "image/png": "[encoded data removed]",
            "text/plain": [
              "<Figure size 432x288 with 1 Axes>"
            ]
          },
          "metadata": {
            "needs_background": "light"
          }
        }
      ]
    },
    {
      "cell_type": "code",
      "metadata": {
        "colab": {
          "base_uri": "https://localhost:8080/",
          "height": 281
        },
        "id": "lyYFk77fvdk4",
        "outputId": "6f813f5e-be6f-411d-efa2-239b204ff3f4"
      },
      "source": [
        "floor.view()"
      ],
      "execution_count": 112,
      "outputs": [
        {
          "output_type": "display_data",
          "data": {
            "image/png": "[encoded data removed]",
            "text/plain": [
              "<Figure size 432x288 with 1 Axes>"
            ]
          },
          "metadata": {
            "needs_background": "light"
          }
        }
      ]
    },
    {
      "cell_type": "markdown",
      "metadata": {
        "id": "qub3j0NPUxNQ"
      },
      "source": [
        "## Regras Nebulosas\n",
        "\n",
        "  Tudo depende do interesse do comprador, então precisamos considerar cada coluna e o valor que o comprador escolheu:\n",
        "  - Área\n",
        "    - SE a **Área** do cliente for maior e igual a 1 e menor e igual a 100     \n",
        "      - Regra: SE a **Área** for pequena ou media ou grande, ENTÃO a **Compra** será alta\n",
        "    - SE a **Área** do cliente for maior e igual a 100 e menor e igual a 500     \n",
        "      - Regra: SE a **Área** for media ou grande, ENTÃO a **Compra** será alta\n",
        "      - Regra: SE a **Área** for pequena, ENTÃO a **Compra** será baixa\n",
        "    - SE a **Área** do cliente for maior e igual a 500     \n",
        "      - Regra: SE a **Área** for grande, ENTÃO a **Compra** será alta\n",
        "      - Regra: SE a **Área** for pequena ou media, ENTÃO a **Compra** será baixa\n",
        "\n",
        "  - Total\n",
        "    - SE o **Total** do cliente for maior e igual a 1 e menor e igual a 4000     \n",
        "      - Regra: SE o **Total** for pequena, ENTÃO a **Compra** será alta\n",
        "      - Regra: SE o **Total** for media ou grande, ENTÃO a **Compra** será baixa\n",
        "    - SE o **Total** do cliente for maior e igual a 4000 e menor e igual a 6000     \n",
        "      - Regra: SE o **Total** for pequena ou média, ENTÃO a **Compra** será alta\n",
        "      - Regra: SE o **Total** for alto, ENTÃO a **Compra** será baixa\n",
        "    - SE o **Total** do cliente for maior e igual a 6000     \n",
        "      - Regra: SE o **Total** for pequena, media ou alta, ENTÃO a **Compra** será alta\n",
        "\n",
        "  - Bathroom\n",
        "    - SE o **Bathroom** do cliente for maior e igual a 1 e menor e igual a 2     \n",
        "      - Regra: SE o **Bathroom** for pequena ou media ou grande, ENTÃO a **Compra** será média\n",
        "    - SE o **Bathroom** do cliente for maior e igual a 3 e menor e igual a 4     \n",
        "      - Regra: SE o **Bathroom** for media ou grande, ENTÃO a **Compra** será média\n",
        "    - SE a **Área** do cliente for maior e igual a 5     \n",
        "      - Regra: SE o **Bathroom** for grande, ENTÃO a **Compra** será média\n",
        "  \n",
        "  - Parking Space\n",
        "    - SE o **Parking Space** do cliente for maior e igual a 0 e menor e igual a 2     \n",
        "      - Regra: SE o **Parking Space** for pequena ou media ou grande, ENTÃO a **Compra** será média\n",
        "    - SE o **Parking Space** do cliente for maior e igual a 3 e menor e igual a 4     \n",
        "      - Regra: SE o **Parking Space** for media ou grande, ENTÃO a **Compra** será média\n",
        "    - SE a **Área** do cliente for maior e igual a 5     \n",
        "      - Regra: SE o **Parking Space** for grande, ENTÃO a **Compra** será média\n",
        "      \n",
        "  - Floor\n",
        "    - SE o **Floor** do cliente for maior e igual a 0 e menor e igual a 10     \n",
        "      - Regra: SE o **Floor** for pequena, ENTÃO a **Compra** será média\n",
        "    - SE o **Floor** do cliente for maior e igual a 10 e menor e igual a 60     \n",
        "      - Regra: SE o **Floor** for media ou grande, ENTÃO a **Compra** será média\n",
        "    - SE a **Área** do cliente for maior e igual a 60   \n",
        "      - Regra: SE o **Floor** for grande, ENTÃO a **Compra** será média"
      ]
    },
    {
      "cell_type": "code",
      "metadata": {
        "id": "QwpW9I-WUgKO"
      },
      "source": [
        "#varios tipos de clientes com seus respectivos interesses\n",
        "cliente1 = {\n",
        "    'area': 200,\n",
        "    'total': 3000,\n",
        "    'rooms': 1,\n",
        "    'bathroom' : 1,\n",
        "    'parking_space' : 1,\n",
        "    'animal' : 1,\n",
        "    'city' : 1,\n",
        "    'furniture' : 1,\n",
        "    'floor': 1\n",
        "}\n",
        "\n",
        "cliente2 = {\n",
        "    'area': 50,\n",
        "    'total': 1000,\n",
        "    'rooms': 3,\n",
        "    'bathroom' : 2,\n",
        "    'parking_space' : 1,\n",
        "    'animal' : 0,\n",
        "    'city' : 1,\n",
        "    'furniture' : 1,\n",
        "    'floor': 5\n",
        "}\n",
        "\n",
        "cliente3 = {\n",
        "    'area': 300,\n",
        "    'total': 10000,\n",
        "    'rooms': 5,\n",
        "    'bathroom' : 5,\n",
        "    'parking_space' : 5,\n",
        "    'animal' : 1,\n",
        "    'city' : 1,\n",
        "    'furniture' : 1,\n",
        "    'floor': 15\n",
        "}\n",
        "\n",
        "cliente4 = {\n",
        "    'area': 50,\n",
        "    'total': 5000,\n",
        "    'rooms': 2,\n",
        "    'bathroom' : 1,\n",
        "    'parking_space' : 2,\n",
        "    'animal' : 0,\n",
        "    'city' : 1,\n",
        "    'furniture' : 0,\n",
        "    'floor': 4\n",
        "}\n",
        "\n",
        "cliente5 = {\n",
        "    'area': 100,\n",
        "    'total': 2000,\n",
        "    'rooms': 4,\n",
        "    'bathroom' : 4,\n",
        "    'parking_space' : 3,\n",
        "    'animal' : 1,\n",
        "    'city' : 0,\n",
        "    'furniture' : 0,\n",
        "    'floor': 10\n",
        "}\n",
        "\n",
        "cliente6 = {\n",
        "    'area': 500,\n",
        "    'total': 5000,\n",
        "    'rooms': 4,\n",
        "    'bathroom' : 4,\n",
        "    'parking_space' : 4,\n",
        "    'animal' : 1,\n",
        "    'city' : 0,\n",
        "    'furniture' : 0,\n",
        "    'floor': 3\n",
        "}\n",
        "\n",
        "cliente7 = {\n",
        "    'area': 400,\n",
        "    'total': 3500,\n",
        "    'rooms': 2,\n",
        "    'bathroom' : 2,\n",
        "    'parking_space' : 1,\n",
        "    'animal' : 1,\n",
        "    'city' : 1,\n",
        "    'furniture' : 1,\n",
        "    'floor': 7\n",
        "}\n",
        "\n",
        "cliente8 = {\n",
        "    'area': 50,\n",
        "    'total': 1000,\n",
        "    'rooms': 1,\n",
        "    'bathroom' : 1,\n",
        "    'parking_space' : 1,\n",
        "    'animal' : 0,\n",
        "    'city' : 1,\n",
        "    'furniture' : 0,\n",
        "    'floor': 1\n",
        "}\n",
        "\n",
        "cliente9 = {\n",
        "    'area': 400,\n",
        "    'total': 3000,\n",
        "    'rooms': 2,\n",
        "    'bathroom' : 2,\n",
        "    'parking_space' : 3,\n",
        "    'animal' : 1,\n",
        "    'city' : 1,\n",
        "    'furniture' : 0,\n",
        "    'floor': 5\n",
        "}\n",
        "\n",
        "cliente10 = {\n",
        "    'area': 200,\n",
        "    'total': 1000,\n",
        "    'rooms': 1,\n",
        "    'bathroom' : 1,\n",
        "    'parking_space' : 0,\n",
        "    'animal' : 1,\n",
        "    'city' : 1,\n",
        "    'furniture' : 1,\n",
        "    'floor': 1\n",
        "}\n",
        "\n",
        "lista_de_clientes = []\n",
        "\n",
        "lista_de_clientes.append(cliente1)\n",
        "lista_de_clientes.append(cliente2)\n",
        "lista_de_clientes.append(cliente3)\n",
        "lista_de_clientes.append(cliente4)\n",
        "lista_de_clientes.append(cliente5)\n",
        "lista_de_clientes.append(cliente6)\n",
        "lista_de_clientes.append(cliente7)\n",
        "lista_de_clientes.append(cliente8)\n",
        "lista_de_clientes.append(cliente9)\n",
        "lista_de_clientes.append(cliente10)"
      ],
      "execution_count": 113,
      "outputs": []
    },
    {
      "cell_type": "code",
      "metadata": {
        "colab": {
          "base_uri": "https://localhost:8080/"
        },
        "id": "e6oahVAgVHMl",
        "outputId": "d7ca3051-03e6-4d98-9dc5-8b49c6609a40"
      },
      "source": [
        "#percorrendo cada cliente\n",
        "for i, cliente in enumerate(lista_de_clientes):\n",
        "  print(\"Teste com o cliente \", i + 1)\n",
        "\n",
        "  #filtrando a base com valores que nao podem faltar de jeito nenhum\n",
        "  filtered_df = df\n",
        "  filtered_df = filtered_df[filtered_df['animal'].eq(cliente['animal'])]\n",
        "  filtered_df = filtered_df[filtered_df['city'].eq(cliente['city'])]\n",
        "  filtered_df = filtered_df[filtered_df['furniture'].eq(cliente['furniture'])]\n",
        "  filtered_df\n",
        "\n",
        "  #Criamos um sistema de controle nosso com as regras criadas\n",
        "  comprando_ctrl = ctrl.ControlSystem(rules=None)  \n",
        "\n",
        "  #Criando as regras estabelecidas por nos\n",
        "\n",
        "  #criando regras para area\n",
        "  if(1 <= cliente['area'] and cliente['area'] <= 100):\n",
        "    rule1 = ctrl.Rule(area['poor'] | area['average'] | area['good'], compra['high'])\n",
        "    comprando_ctrl.addrule(rule1)\n",
        "  elif(100 <= cliente['area'] and cliente['area'] <= 500):\n",
        "    rule1 = ctrl.Rule(area['average'] | area['good'], compra['high'])\n",
        "    rule11 = ctrl.Rule(area['poor'], compra['low'])\n",
        "    comprando_ctrl.addrule(rule1)\n",
        "    comprando_ctrl.addrule(rule11)  \n",
        "  elif(cliente['area'] >= 500):\n",
        "    rule1 = ctrl.Rule(area['good'], compra['high'])\n",
        "    rule11 = ctrl.Rule(area['poor'] | area['average'], compra['low'])\n",
        "    comprando_ctrl.addrule(rule1)\n",
        "    comprando_ctrl.addrule(rule11)\n",
        "\n",
        "  #criando regras para total\n",
        "  if(1 <= cliente['total'] and cliente['total'] <= 4000):\n",
        "    rule2 = ctrl.Rule(total['low'], compra['high'])\n",
        "    rule22 = ctrl.Rule(total['medium'] | total['high'], compra['low'])\n",
        "    comprando_ctrl.addrule(rule2)\n",
        "    comprando_ctrl.addrule(rule22)\n",
        "  elif(4000 <= cliente['total'] and cliente['total'] <= 6000):\n",
        "    rule2 = ctrl.Rule(total['low'] | total['medium'], compra['high'])\n",
        "    rule22 = ctrl.Rule(total['high'], compra['low'])\n",
        "    comprando_ctrl.addrule(rule2)\n",
        "    comprando_ctrl.addrule(rule22)\n",
        "  elif(cliente['total'] >= 6000):\n",
        "    rule2 = ctrl.Rule(total['low'] | total['medium'] | total['high'], compra['high'])\n",
        "    comprando_ctrl.addrule(rule2)\n",
        "\n",
        "  #criando regras pro rooms\n",
        "  if(1 <= cliente['rooms'] and cliente['rooms'] <= 2):\n",
        "    rule4 = ctrl.Rule(rooms['poor'] | rooms['average'] | rooms['good'], compra['medium'])\n",
        "  elif(3 <= cliente['rooms'] and cliente['rooms'] <= 4):\n",
        "    rule4 = ctrl.Rule(rooms['average'] | rooms['good'], compra['medium'])\n",
        "  elif(cliente['rooms'] >= 5):\n",
        "    rule4 = ctrl.Rule(rooms['good'], compra['medium'])\n",
        "\n",
        "  #criando regras pro bathroom\n",
        "  if(1 <= cliente['bathroom'] and cliente['bathroom'] <= 2):\n",
        "    rule5 = ctrl.Rule(bathroom['poor'] | bathroom['average'] | bathroom['good'], compra['medium'])\n",
        "  elif(3 <= cliente['bathroom'] and cliente['bathroom'] <= 4):\n",
        "    rule5 = ctrl.Rule(bathroom['average'] | bathroom['good'], compra['medium'])\n",
        "  elif(cliente['bathroom'] >= 5):\n",
        "    rule5 = ctrl.Rule(bathroom['good'], compra['medium'])\n",
        "  \n",
        "  #criando regras pro parking_space\n",
        "  if(0 <= cliente['parking_space'] and cliente['parking_space'] <= 2):\n",
        "    rule6 = ctrl.Rule(parking_space['poor'] | parking_space['average'] | parking_space['good'], compra['medium'])\n",
        "  elif(3 <= cliente['parking_space'] and cliente['parking_space'] <= 4):\n",
        "    rule6 = ctrl.Rule(parking_space['average'] | parking_space['good'], compra['medium'])\n",
        "  elif(cliente['parking_space'] >= 5):\n",
        "    rule6 = ctrl.Rule(parking_space['good'], compra['medium'])\n",
        "  \n",
        "  #criando regras pro floor\n",
        "  if(0 <= cliente['floor'] and cliente['floor'] <= 10):\n",
        "    rule7 = ctrl.Rule(floor['low'], compra['medium'])\n",
        "  elif(10 <= cliente['floor'] and cliente['floor'] <= 60):\n",
        "    rule7 = ctrl.Rule(floor['medium'], compra['medium'])\n",
        "  elif(cliente['floor'] >= 60):\n",
        "    rule7 = ctrl.Rule(floor['high'], compra['medium'])\n",
        "\n",
        "  comprando_ctrl.addrule(rule4)\n",
        "  comprando_ctrl.addrule(rule5)\n",
        "  comprando_ctrl.addrule(rule6)\n",
        "  comprando_ctrl.addrule(rule7)\n",
        "\n",
        "  #Vamos simular o sistema de controle, criando um 'ControlSystemSimulation'.\n",
        "  #Podemos com eles criar ambientes e entradas que poderiam acontecer\n",
        "  #e com isso gerar resultados e testar nossa logicas Nebulosa.\n",
        "\n",
        "  #Calcule os resultados por meio do sistema de controle\n",
        "  comprando = ctrl.ControlSystemSimulation(comprando_ctrl)\n",
        "  \n",
        "  #variavel com as respostas\n",
        "  res = []\n",
        "  for linha_df in filtered_df.values:\n",
        "\n",
        "    # Estabelecendo entradas do ControlSystem usando os rótulos de Antecedent com uma API Python\n",
        "    comprando.input['area'] = linha_df[2]\n",
        "    comprando.input['rooms'] = linha_df[3]\n",
        "    comprando.input['bathroom'] = linha_df[4]\n",
        "    comprando.input['parking_space'] = linha_df[5]\n",
        "    comprando.input['floor'] = linha_df[6]\n",
        "    comprando.input['total'] = linha_df[13]\n",
        "    \n",
        "    # Filtrar os números e computar os resultados\n",
        "    comprando.compute()\n",
        "\n",
        "    #adicionando nas respostas os valores encontrados\n",
        "    res.append([comprando.output['compra'], linha_df])\n",
        "    \n",
        "  #ordena de melhor pra pior\n",
        "  res.sort(key=lambda x: x[0], reverse = True)\n",
        "\n",
        "  #imprime as 10 melhores opçoes encontradas\n",
        "  print(\"Resultados: \")\n",
        "  for aux, valor in enumerate(res):\n",
        "    if(aux == 11):\n",
        "      break\n",
        "    print(valor)    \n",
        "\n",
        "  print(\"Fim dos testes com o cliente \", i + 1)\n",
        "  print(\"\\n\")\n"
      ],
      "execution_count": 120,
      "outputs": [
        {
          "output_type": "stream",
          "name": "stdout",
          "text": [
            "Teste com o cliente  1\n",
            "Resultados: \n",
            "[53.930074352151486, array([1704,    1,  150,    2,    2,    1,    0,    1,    1,    0, 2175,\n",
            "          0,   12, 2187])]\n",
            "[53.85087152339456, array([1970,    1,   80,    2,    2,    1,    0,    1,    1,    0, 1600,\n",
            "         25,   25, 1650])]\n",
            "[53.804355573272694, array([  173,     1,   118,     3,     2,     2,     7,     1,     1,\n",
            "        1880,  8500,   434,   108, 10920])]\n",
            "[53.786447256488195, array([2566,    1,   95,    2,    2,    0,    1,    1,    1,  621, 1550,\n",
            "         82,   20, 2273])]\n",
            "[53.621457613880516, array([ 855,    1,  154,    3,    3,    2,   12,    1,    1, 1042, 2000,\n",
            "          0,   26, 3068])]\n",
            "[53.579805895713136, array([3861,    1,   84,    3,    2,    2,    7,    1,    1,  540, 2200,\n",
            "         71,   28, 2839])]\n",
            "[53.55944874203786, array([2408,    1,  100,    3,    2,    1,   15,    1,    1,  870, 1800,\n",
            "        178,   23, 2871])]\n",
            "[53.537676023473885, array([3489,    1,   68,    3,    2,    1,    3,    1,    1,  455, 1299,\n",
            "          0,   17, 1771])]\n",
            "[53.517309273123736, array([1300,    1,  100,    2,    2,    1,   10,    1,    1, 1190, 1625,\n",
            "         66,    7, 2888])]\n",
            "[53.48348808123393, array([4522,    1,  127,    3,    2,    2,    0,    1,    1,  220, 2150,\n",
            "         67,   33, 2470])]\n",
            "[53.470762665930515, array([6027,    1,  130,    3,    4,    0,    3,    1,    1,    0, 2443,\n",
            "          0,   31, 2474])]\n",
            "Fim dos testes com o cliente  1\n",
            "\n",
            "\n",
            "Teste com o cliente  2\n",
            "Resultados: \n",
            "[54.999999999999986, array([1118,    1,   20,    1,    1,    0,    3,    0,    1,  300,  600,\n",
            "         40,    8,  948])]\n",
            "[54.999999999999986, array([2053,    1,   20,    1,    1,    0,    3,    0,    1,  300,  600,\n",
            "         40,    8,  948])]\n",
            "[54.999999999999986, array([3873,    1,   40,    1,    1,    0,    0,    0,    1,    0,  860,\n",
            "         59,   13,  932])]\n",
            "[54.96477933314075, array([ 219,    1,   11,    1,    1,    0,    0,    0,    1,    0, 1181,\n",
            "          0,   15, 1196])]\n",
            "[54.86101072393234, array([2768,    1,   22,    1,    1,    0,    1,    0,    1,  300,  900,\n",
            "         40,   12, 1252])]\n",
            "[54.68673885361299, array([3743,    1,   15,    1,    1,    0,    1,    0,    1,    0, 1550,\n",
            "          0,   20, 1570])]\n",
            "[54.5331120664312, array([5472,    1,   70,    2,    1,    0,    0,    0,    1,    0, 1362,\n",
            "         84,   21, 1467])]\n",
            "[54.31284953761884, array([2751,    1,   35,    1,    1,    0,    0,    0,    1,    0, 1550,\n",
            "          0,   20, 1570])]\n",
            "[54.252254651271265, array([3839,    1,   92,    3,    1,    0,    1,    0,    1,  150, 1700,\n",
            "         13,   22, 1885])]\n",
            "[54.21797835173376, array([3296,    1,   35,    1,    1,    0,    2,    0,    1,    1, 1587,\n",
            "          0,   21, 1609])]\n",
            "[54.058841196290324, array([2674,    1,   35,    1,    1,    0,    1,    0,    1,    0, 1650,\n",
            "          0,   21, 1671])]\n",
            "Fim dos testes com o cliente  2\n",
            "\n",
            "\n",
            "Teste com o cliente  3\n",
            "Resultados: \n",
            "[76.66666666666669, array([   39,     1,   191,     3,     3,     4,     1,     1,     1,\n",
            "        2605, 15000,  1299,   191, 19100])]\n",
            "[76.66666666666669, array([   46,     1,   230,     4,     4,     4,     1,     1,     1,\n",
            "        2300, 13500,  1084,   172, 17060])]\n",
            "[76.66666666666669, array([ 1212,     1,   240,     3,     4,     3,     1,     1,     1,\n",
            "        5100, 11000,  1834,   140, 18070])]\n",
            "[76.66666666666669, array([ 1236,     1,   238,     4,     4,     3,     1,     1,     1,\n",
            "        2569, 15000,   542,   191, 18300])]\n",
            "[76.66666666666669, array([ 1361,     1,   100,     1,     2,     2,     1,     1,     1,\n",
            "        2344,  7000,   757,    89, 10190])]\n",
            "[76.66666666666669, array([2061,    1,  100,    2,    2,    2,    0,    1,    1,    0, 3900,\n",
            "         34,   59, 3993])]\n",
            "[76.66666666666669, array([2275,    1,  100,    3,    2,    2,    0,    1,    1,  550, 3570,\n",
            "         63,   54, 4237])]\n",
            "[76.66666666666669, array([2459,    1,  100,    2,    2,    1,    0,    1,    1,    0, 3500,\n",
            "        125,   53, 3678])]\n",
            "[76.66666666666669, array([2493,    1,  100,    2,    3,    3,    0,    1,    1, 1200, 7650,\n",
            "        250,   97, 9197])]\n",
            "[76.66666666666669, array([3141,    1,  100,    1,    1,    0,    0,    1,    1,    0, 2720,\n",
            "        138,   41, 2899])]\n",
            "[76.66666666666669, array([ 4687,     1,   303,     3,     4,     4,     1,     1,     1,\n",
            "        4540, 18000,     0,   229, 22770])]\n",
            "Fim dos testes com o cliente  3\n",
            "\n",
            "\n",
            "Teste com o cliente  4\n",
            "Resultados: \n",
            "[56.84354758345788, array([1106,    1,  100,    3,    2,    2,    6,    0,    0, 1200, 2000,\n",
            "          0,   26, 3226])]\n",
            "[56.84354758345788, array([2045,    1,  100,    3,    2,    2,    6,    0,    0, 1200, 2000,\n",
            "          0,   26, 3226])]\n",
            "[56.84279722717487, array([3855,    1,  105,    3,    3,    2,    4,    0,    0, 1380, 2720,\n",
            "        417,   35, 4552])]\n",
            "[56.84163009155948, array([3587,    1,  108,    3,    2,    2,   12,    0,    0,  900, 2900,\n",
            "        202,   37, 4039])]\n",
            "[56.841581971106294, array([1528,    1,   89,    3,    3,    2,    8,    0,    0,  965, 3800,\n",
            "        150,   49, 4964])]\n",
            "[56.82962793401624, array([4913,    1,  112,    3,    3,    2,    8,    0,    0, 1222, 3500,\n",
            "        486,   45, 5253])]\n",
            "[56.827836727911155, array([2157,    1,  123,    3,    2,    2,    7,    0,    0, 1000, 2450,\n",
            "        250,   32, 3732])]\n",
            "[56.8235055851467, array([1661,    1,  126,    3,    2,    2,   18,    0,    0,  990, 1680,\n",
            "          0,   22, 2692])]\n",
            "[56.81285001960038, array([2938,    1,  112,    3,    3,    2,   11,    0,    0, 1661, 3616,\n",
            "        209,   13, 5499])]\n",
            "[56.798906581911226, array([5124,    1,  110,    3,    3,    2,    4,    0,    0, 1200, 3900,\n",
            "        484,   50, 5634])]\n",
            "[56.79648584516994, array([3187,    1,  140,    3,    2,    2,   13,    0,    0, 1475, 2000,\n",
            "        171,   26, 3672])]\n",
            "Fim dos testes com o cliente  4\n",
            "\n",
            "\n",
            "Teste com o cliente  5\n",
            "Resultados: \n",
            "[76.66666666666669, array([3539,    0,   30,    1,    1,    0,   15,    1,    0,  280,  500,\n",
            "         10,    7,  797])]\n",
            "[76.66666666666669, array([5544,    0,   56,    1,    1,    0,   12,    1,    0,  290,  500,\n",
            "         19,    7,  816])]\n",
            "[73.44783103557866, array([6077,    0,   48,    1,    1,    0,   13,    1,    0,  250,  950,\n",
            "         42,   13, 1255])]\n",
            "[73.13554793369408, array([2134,    0,   97,    1,    1,    0,   12,    1,    0,  468,  750,\n",
            "         61,   10, 1289])]\n",
            "[73.13554793369408, array([2697,    0,   97,    1,    1,    0,   12,    1,    0,  468,  750,\n",
            "         61,   10, 1289])]\n",
            "[71.19110727506155, array([ 127,    0,   48,    1,    1,    0,    9,    1,    0,  350,  670,\n",
            "         21,    9, 1050])]\n",
            "[71.19110727506155, array([5443,    0,   48,    1,    1,    0,    9,    1,    0,  350,  670,\n",
            "         21,    9, 1050])]\n",
            "[69.49662518764148, array([5028,    0,   50,    1,    1,    0,   16,    1,    0,  633,  900,\n",
            "         59,    4, 1596])]\n",
            "[67.53968656180034, array([  79,    0,   55,    1,    1,    0,   14,    1,    0,  600, 1100,\n",
            "         60,   14, 1774])]\n",
            "[66.63952975550598, array([5515,    0,   38,    1,    1,    0,    8,    1,    0,  300,  550,\n",
            "         70,    7,  927])]\n",
            "[66.63933374094404, array([3247,    0,   35,    1,    1,    0,    8,    1,    0,  480,  500,\n",
            "         14,    7, 1001])]\n",
            "Fim dos testes com o cliente  5\n",
            "\n",
            "\n",
            "Teste com o cliente  6\n",
            "Resultados: \n",
            "[74.94844581830671, array([2134,    0,   97,    1,    1,    0,   12,    1,    0,  468,  750,\n",
            "         61,   10, 1289])]\n",
            "[74.94844581830671, array([2697,    0,   97,    1,    1,    0,   12,    1,    0,  468,  750,\n",
            "         61,   10, 1289])]\n",
            "[64.66587513042722, array([4933,    0,   85,    1,    1,    1,    8,    1,    0,  564,  912,\n",
            "          0,    5, 1481])]\n",
            "[64.44480275180051, array([1843,    0,  100,    2,    1,    0,   16,    1,    0,  550,  900,\n",
            "         61,   12, 1523])]\n",
            "[64.43911253376457, array([6017,    0,  113,    2,    1,    1,    8,    1,    0,  670, 1250,\n",
            "         92,   16, 2028])]\n",
            "[64.37515831514759, array([2930,    0,  146,    2,    1,    1,    8,    1,    0,  730, 1620,\n",
            "        128,   21, 2499])]\n",
            "[63.474912451390395, array([1351,    0,   87,    2,    1,    0,   10,    1,    0,  415, 1100,\n",
            "         82,   14, 1611])]\n",
            "[62.9931430876273, array([3239,    0,  100,    2,    2,    1,   11,    1,    0,    0, 2000,\n",
            "          0,   26, 2026])]\n",
            "[62.940405953309536, array([2607,    0,  140,    2,    1,    1,    7,    1,    0,  870, 2600,\n",
            "        580,   33, 4083])]\n",
            "[61.758943871891965, array([3801,    0,   78,    2,    1,    1,    8,    1,    0,  605, 1468,\n",
            "        106,   19, 2198])]\n",
            "[61.733453917597686, array([2402,    0,   75,    2,    1,    1,   11,    1,    0,  670, 1100,\n",
            "         80,   14, 1864])]\n",
            "Fim dos testes com o cliente  6\n",
            "\n",
            "\n",
            "Teste com o cliente  7\n",
            "Resultados: \n",
            "[53.930074352151486, array([1704,    1,  150,    2,    2,    1,    0,    1,    1,    0, 2175,\n",
            "          0,   12, 2187])]\n",
            "[53.85087152339456, array([1970,    1,   80,    2,    2,    1,    0,    1,    1,    0, 1600,\n",
            "         25,   25, 1650])]\n",
            "[53.804355573272694, array([  173,     1,   118,     3,     2,     2,     7,     1,     1,\n",
            "        1880,  8500,   434,   108, 10920])]\n",
            "[53.786447256488195, array([2566,    1,   95,    2,    2,    0,    1,    1,    1,  621, 1550,\n",
            "         82,   20, 2273])]\n",
            "[53.621457613880516, array([ 855,    1,  154,    3,    3,    2,   12,    1,    1, 1042, 2000,\n",
            "          0,   26, 3068])]\n",
            "[53.579805895713136, array([3861,    1,   84,    3,    2,    2,    7,    1,    1,  540, 2200,\n",
            "         71,   28, 2839])]\n",
            "[53.55944874203786, array([2408,    1,  100,    3,    2,    1,   15,    1,    1,  870, 1800,\n",
            "        178,   23, 2871])]\n",
            "[53.537676023473885, array([3489,    1,   68,    3,    2,    1,    3,    1,    1,  455, 1299,\n",
            "          0,   17, 1771])]\n",
            "[53.517309273123736, array([1300,    1,  100,    2,    2,    1,   10,    1,    1, 1190, 1625,\n",
            "         66,    7, 2888])]\n",
            "[53.48348808123393, array([4522,    1,  127,    3,    2,    2,    0,    1,    1,  220, 2150,\n",
            "         67,   33, 2470])]\n",
            "[53.470762665930515, array([6027,    1,  130,    3,    4,    0,    3,    1,    1,    0, 2443,\n",
            "          0,   31, 2474])]\n",
            "Fim dos testes com o cliente  7\n",
            "\n",
            "\n",
            "Teste com o cliente  8\n",
            "Resultados: \n",
            "[54.999999999999986, array([221,   1,  16,   1,   1,   0,   1,   0,   0,   0, 850,  30,  11,\n",
            "       891])]\n",
            "[54.999999999999986, array([352,   1,  30,   1,   1,   0,   1,   0,   0,   0, 900,   0,  12,\n",
            "       912])]\n",
            "[54.999999999999986, array([376,   1,  16,   1,   1,   0,   1,   0,   0,   0, 850,  35,  11,\n",
            "       896])]\n",
            "[54.999999999999986, array([757,   1,  40,   1,   1,   1,   0,   0,   0,   0, 972,   0,  15,\n",
            "       987])]\n",
            "[54.999999999999986, array([786,   1,  40,   1,   1,   0,   0,   0,   0,   0, 650,   0,  10,\n",
            "       660])]\n",
            "[54.999999999999986, array([926,   1,  50,   1,   1,   0,   0,   0,   0,   0, 892,  59,  14,\n",
            "       965])]\n",
            "[54.999999999999986, array([1158,    1,   30,    1,    1,    0,    0,    0,    0,    0,  920,\n",
            "          0,   14,  934])]\n",
            "[54.999999999999986, array([1311,    1,   40,    1,    1,    0,    0,    0,    0,    0,  780,\n",
            "         17,   12,  809])]\n",
            "[54.999999999999986, array([1576,    1,   50,    1,    1,    0,    1,    0,    0,  150,  810,\n",
            "          0,   11,  971])]\n",
            "[54.999999999999986, array([1681,    1,   16,    1,    1,    0,    1,    0,    0,    0,  850,\n",
            "         30,   11,  891])]\n",
            "[54.999999999999986, array([1732,    1,   27,    1,    1,    0,    2,    0,    0,   50,  895,\n",
            "         41,   12,  998])]\n",
            "Fim dos testes com o cliente  8\n",
            "\n",
            "\n",
            "Teste com o cliente  9\n",
            "Resultados: \n",
            "[54.999999999999986, array([4419,    1,  120,    1,    2,    0,    0,    1,    0,    0,  761,\n",
            "        129,   10,  900])]\n",
            "[54.95380719363405, array([3330,    1,  100,    2,    1,    0,    0,    1,    0,    0, 1100,\n",
            "        125,   17, 1242])]\n",
            "[54.88000714830786, array([ 549,    1,  103,    2,    1,    0,    0,    1,    0,    0, 1300,\n",
            "         80,   20, 1400])]\n",
            "[54.84785798061982, array([2474,    1,  150,    2,    1,    0,    0,    1,    0,    0, 1250,\n",
            "         55,   19, 1324])]\n",
            "[54.79234118605542, array([5082,    1,  101,    3,    2,    1,   18,    1,    0,  890, 1700,\n",
            "         22,   22, 2634])]\n",
            "[54.781261181064686, array([ 151,    1,  100,    1,    1,    0,    0,    1,    0,    0, 1530,\n",
            "          0,   12, 1542])]\n",
            "[54.768868055646955, array([2282,    1,   94,    2,    1,    0,    3,    1,    0,  200, 1200,\n",
            "          0,   16, 1416])]\n",
            "[54.76034639355686, array([5398,    1,  100,    2,    1,    0,    0,    1,    0,    0, 1460,\n",
            "         84,   22, 1566])]\n",
            "[54.75424938447443, array([3559,    1,  100,    2,    1,    0,    4,    1,    0,    0, 1500,\n",
            "         50,   23, 1573])]\n",
            "[54.75399548227478, array([4883,    1,  110,    1,    1,    1,    0,    1,    0,    0, 1300,\n",
            "        250,   20, 1570])]\n",
            "[54.751291465200644, array([ 918,    1,  125,    3,    2,    2,    0,    1,    0,    0, 1450,\n",
            "         84,   22, 1556])]\n",
            "Fim dos testes com o cliente  9\n",
            "\n",
            "\n",
            "Teste com o cliente  10\n",
            "Resultados: \n",
            "[53.930074352151486, array([1704,    1,  150,    2,    2,    1,    0,    1,    1,    0, 2175,\n",
            "          0,   12, 2187])]\n",
            "[53.85087152339456, array([1970,    1,   80,    2,    2,    1,    0,    1,    1,    0, 1600,\n",
            "         25,   25, 1650])]\n",
            "[53.804355573272694, array([  173,     1,   118,     3,     2,     2,     7,     1,     1,\n",
            "        1880,  8500,   434,   108, 10920])]\n",
            "[53.786447256488195, array([2566,    1,   95,    2,    2,    0,    1,    1,    1,  621, 1550,\n",
            "         82,   20, 2273])]\n",
            "[53.621457613880516, array([ 855,    1,  154,    3,    3,    2,   12,    1,    1, 1042, 2000,\n",
            "          0,   26, 3068])]\n",
            "[53.579805895713136, array([3861,    1,   84,    3,    2,    2,    7,    1,    1,  540, 2200,\n",
            "         71,   28, 2839])]\n",
            "[53.55944874203786, array([2408,    1,  100,    3,    2,    1,   15,    1,    1,  870, 1800,\n",
            "        178,   23, 2871])]\n",
            "[53.537676023473885, array([3489,    1,   68,    3,    2,    1,    3,    1,    1,  455, 1299,\n",
            "          0,   17, 1771])]\n",
            "[53.517309273123736, array([1300,    1,  100,    2,    2,    1,   10,    1,    1, 1190, 1625,\n",
            "         66,    7, 2888])]\n",
            "[53.48348808123393, array([4522,    1,  127,    3,    2,    2,    0,    1,    1,  220, 2150,\n",
            "         67,   33, 2470])]\n",
            "[53.470762665930515, array([6027,    1,  130,    3,    4,    0,    3,    1,    1,    0, 2443,\n",
            "          0,   31, 2474])]\n",
            "Fim dos testes com o cliente  10\n",
            "\n",
            "\n"
          ]
        }
      ]
    },
    {
      "cell_type": "markdown",
      "metadata": {
        "id": "p0pLwgCAoXbP"
      },
      "source": [
        "## Análise da complexidade\n",
        "\n",
        "A complexidade de tempo e espaço vai ser igual a O(n), onde n é o tamanho da base, em si não é alto quando vamos resolver os problemas mas em big data a complexidade de tempo e espaço fica alto. Então precisamos reduzir. A complexidade do tempo é reduzida através da propriedade de recuperação consecutiva (C-R) e a complexidade do espaço é reduzida com blackboard systems(sistemas de quadro negro)\n",
        "\n",
        "## Avaliação\n",
        "\n",
        "Em questão de ser completa e otima, não são porque tudo depende das regras que estabelecemos porque as vezes a solução pode entregar um resultado que não seja a melhor possivel. Necessitando de mais ajuste de regras, mais implementação e uma melhor analise do problema."
      ]
    },
    {
      "cell_type": "markdown",
      "metadata": {
        "id": "pQYnbfH_r2Yy"
      },
      "source": [
        "## Outras soluções\n",
        "\n",
        "Outra utilidade é a de modelar funções não lineares de complexidade arbitrária, possibilitando a criação de um sistema nebuloso que se combina com qualquer conjunto de dados de entrada-saída. Esse processo é feito facilmente através de técnicas adaptativas. \n",
        "\n",
        "https://www.marinha.mil.br/spolm/sites/www.marinha.mil.br.spolm/files/033.pdf\n",
        "\n",
        "Outra solução seria desse artigo abaixo que tem a mesma proposta que esse trabalho proposto por nós, o objetivo do artigo é a seleção de terrenos para edificações comerciais na cidade do Rio de Janeiro, por meio do uso de técnicas de múltiplos critérios de tomada de decisão, com base no método: Lógica Fuzzy.\n",
        "\n",
        "https://www.ime.unicamp.br/~cbsf4/Papers_IVCBSF/CBSF_2016_paper_56.pdf\n",
        "\n"
      ]
    },
    {
      "cell_type": "markdown",
      "metadata": {
        "id": "H74LhefxyaJX"
      },
      "source": [
        "## Observação\n",
        "\n",
        "Mudamos o modelo para um modelo mais completo visto que poderiamos colocar mais detalhes em nossa implementação e considerar mais variaveis para ter um melhor resultado. "
      ]
    }
  ]
}