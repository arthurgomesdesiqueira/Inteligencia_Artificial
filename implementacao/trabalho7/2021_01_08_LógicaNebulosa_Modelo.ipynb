{
  "nbformat": 4,
  "nbformat_minor": 0,
  "metadata": {
    "colab": {
      "name": "2021_01_08_LógicaNebulosa_Modelo.ipynb",
      "provenance": [],
      "collapsed_sections": []
    },
    "kernelspec": {
      "name": "python3",
      "display_name": "Python 3"
    }
  },
  "cells": [
    {
      "cell_type": "markdown",
      "metadata": {
        "id": "mLKPZajBKe3L"
      },
      "source": [
        "**Instituto de Informática - UFG**\n",
        "\n",
        "Disciplina: Inteligência Artificial\n",
        "\n",
        "Prof. Cedric Luiz de Carvalho\n",
        "\n",
        "\n",
        "Grupo ( D )\n",
        "\n",
        "---\n",
        "\n",
        "\n",
        "Aluna(o): Arthur Gomes de Siqueira\n",
        "\n",
        "---\n",
        "\n",
        "Aluna(o): Ricardo Ataide de Oliveira Junior\n",
        "\n",
        "---"
      ]
    },
    {
      "cell_type": "markdown",
      "metadata": {
        "id": "o_bZhd8FMiSa"
      },
      "source": [
        "#Especificação do problema : Lógica nebulosa"
      ]
    },
    {
      "cell_type": "markdown",
      "metadata": {
        "id": "YTE0x5IrTiwN"
      },
      "source": [
        "O setor de aluguéis de imóveis movimenta milhões por ano. Com a pandemia do coronavírus, esse setor tem sido forçado a se reinventar, uma vez que o contato direto (presencial) entre os interessados em alugar um imóvel e os corretores tem sido prejudicado. Você foi contratado por uma empresa do setor para projetar e implementar um sistema que faça sugestões para os clientes de imóveis que possam ser do seu interesse. \n",
        "\n",
        "Utilizando a base de dados [brazilian_houses_to_rent](https://www.kaggle.com/rubenssjr/brasilian-houses-to-rent), projete e implemente um sistema de recomendação, baseado em lógica nebulosa, que identifique os imóveis mais adequados às necessidades de um determinado cliente.\n",
        "\n",
        "Nesse projeto, devem ser identificadas as variáveis de entrada nebulosas, as quais devem ter, no mínimo, três faixas valores. Também deve ser definida uma variável de saída que indique a probabilidade do cliente se interessar por um dado imóvel.\n",
        "\n"
      ]
    },
    {
      "cell_type": "markdown",
      "metadata": {
        "id": "em9Np5IMRkqS"
      },
      "source": [
        "## O trabalho"
      ]
    },
    {
      "cell_type": "markdown",
      "metadata": {
        "id": "TgDeaesIRtzJ"
      },
      "source": [
        "O trabalho deve ser feito em grupos, conforme definido. Cada grupo deverá entregar apenas um produto final para ser avaliado pelo professor. Apesar do trabalho ser feito em grupos, a avaliação de cada aluno será feita individualmente.\n"
      ]
    },
    {
      "cell_type": "markdown",
      "metadata": {
        "id": "vgmMVeMmGQWa"
      },
      "source": [
        "**Recomendações:**\n",
        "\n",
        "   O primeiro passo para resolver um problema é entendê-lo muito bem, considerar o contexto e fazer as abstrações necessárias. A seguir, para não \"reinventar a roda\" é preciso identificar como a comunidade resolveu o problema em questão, ou problemas parecidos, cuja solução possa ser mapeada para situação em análise. Desta forma, deve ser feito um estudo, o mais amplo possível sobre esse assunto. O próximo passo é o grupo se reunir e instanciar o modelo em estudo para o caso específico do problema a ser resolvido. Em paralelo, uma análise rigorosa deve ser feita na base de dados a fim de prepará-la para seu uso no modelo. Finalmente, com o modelo bem compreendido e instanciado e os dados devidamente preparados, a implementação do modelo pode ser feita.\n",
        "   \n",
        "    "
      ]
    },
    {
      "cell_type": "markdown",
      "metadata": {
        "id": "8Cr8udvqSKD9"
      },
      "source": [
        "## Divisão de papéis:"
      ]
    },
    {
      "cell_type": "markdown",
      "metadata": {
        "id": "6i831PNuJiPG"
      },
      "source": [
        "* **Analista de dados:** deverá ficar responsável por fazer uma \"Análise Exploratória de Dados\" (AED), analisando a base de dados fornecida e preparando-a para ser usada na solução do problema. Esta análise deve produzir diversos gráficos que pemitam uma visão geral do comportamento dos dados.\n",
        "\n",
        "* **Engenheiro de conhecimento:** deverá produzir a solução para o problema, utilizando a técnica estudada, o modelo proposto pelo grupo e a base de dados preparada pelo analista de dados.\n",
        "\n"
      ]
    },
    {
      "cell_type": "markdown",
      "metadata": {
        "id": "WEpLciSUSVlR"
      },
      "source": [
        "### Primeira etapa:"
      ]
    },
    {
      "cell_type": "markdown",
      "metadata": {
        "id": "ugeUfo04SYN_"
      },
      "source": [
        "(1) **Notebook descrevendo detalhadamente o modelo:**\n",
        "* Um modelo é uma representação abstrata do mundo. No nosso caso, o \"mundo\" é o contexto onde o problema se insere. Desta forma, deve ser analisado com cuidado o que deve e o que não deve ser considerado. Por exemplo, se a base de dados tem 30 colunas, todas elas deverão ser utilizadas na implementação? Algumas poderão ser desconsideradas? Por quê?\n",
        "* Para utilizar a técnica em estudo, é preciso conhecê-la muito bem. Assim, nesta etapa, **deve ser feita uma descrição detalhada do problema e da técnica a ser utilizada.**\n",
        "* Deve ser elaborado um modelo com base na técnica em estudo.\n",
        "* O notebook, descrevendo o problema, a técnica em questão e o modelo elaborado deverá ser submetido na Plataforma Turing, até dia 20/10/2021. Os modelos serão discutidos com a turma no dia 21/10/2021."
      ]
    },
    {
      "cell_type": "markdown",
      "metadata": {
        "id": "Tr1jkl8LSedN"
      },
      "source": [
        "### Segunda etapa:"
      ]
    },
    {
      "cell_type": "markdown",
      "metadata": {
        "id": "MoRU9zH8SjtE"
      },
      "source": [
        "(2) **Notebook contendo a Análise Exploratória dos Dados**\n",
        "\n",
        "(3) **Notebook contendo a solução para o problema** \n",
        "\n",
        "(4) **Um vídeo explicando detalhadamente como a técnica estudada foi utilizada para resolver o problema proposto** . O vídeo NÃO deve ser uma apresentação do notebook nem deve apresentar detalhes de codificação. Deve trazer uma descrição do problema, do modelo utilizado e da solução desenvolvida, de preferência utilizando slides ou algo parecido. Preferencialmente, o grupo deve enviar um *link* para o local onde o vídeo está armazenado.\n",
        "\n",
        "\n",
        "**Observação:** poderão ser utilizados códigos desenvolvidos pelo grupo e/ou códigos de terceiros. No caso de se usar códigos desenvolvidos por terceiros, o autor desses códigos deve ser devidamente referenciado e os códigos devem ser devidamente documentados (comentários no próprio código e fora dele).\n",
        "\n",
        "Os produtos da segunda etapa deverão ser submetidos na Plataforma Turing até 25/10/2021.\n",
        " "
      ]
    },
    {
      "cell_type": "markdown",
      "metadata": {
        "id": "tUe4mcYwdKpK"
      },
      "source": [
        "# Trabalho"
      ]
    },
    {
      "cell_type": "markdown",
      "metadata": {
        "id": "ju9Rrh6IHXfR"
      },
      "source": [
        "## Definição da técnica utilizada: Lógica Nebulosa\n",
        "\n",
        "A lógica nebulosa é um método que permite expressar incertezas de maneira mais consistente, através dos conjuntos nebulosos: ao invés de simplesmente pertencer ou não pertencer, um elemento poderá ter vários graus de pertinência a um conjunto.\n",
        "\n",
        "Os conjuntos nebulosos (fuzzy sets) são funções que mapeiam, em uma escala de zero a um, esta pertinência de um determinado elemento ao conjunto. O valor zero indica que o elemento não pertence ao conjunto, enquanto o valor um significa que o elemento é completamente representativo do conjunto; valores entre estes dois indicam graus intermediários de pertinência.\n",
        "\n",
        "No exemplo da lógica nebulosa, podemos ter valores intermediarios como inves de uma pessoa ser so alta ou ser baixa, podemos considerar que ela pode ser alta, baixa ou média."
      ]
    },
    {
      "cell_type": "markdown",
      "metadata": {
        "id": "LfxsjuzAqqmi"
      },
      "source": [
        "## Base de dados\n",
        "\n",
        "* Dados utilizados:\n",
        "\n",
        "  - id: identificação\n",
        "  - area: Area do imovel \n",
        "  - total: soma das colunas hoa, rent_amount, property_tax e fire_insurance \n",
        "  - city: Cidade onde o imóvel está localizada\n",
        "  - rooms: Número de quartos\n",
        "  - bathroom: Numero de banheiros\n",
        "  - parking spaces: Número de vagas\n",
        "  - floor: Andar do imovel\n",
        "  - animal: Aceita animais? \n",
        "  - furniture: Mobiliada?\n",
        "\n",
        "* Dados não utilizados:\n",
        "\n",
        "  - hoa: Valor do condominio\n",
        "  - rent_amount: valor do aluguel\n",
        "  - property_tax: seguro\n",
        "  - fire_insurance: seguro contra incendio\n",
        "\n",
        "## Motivos \n",
        "\n",
        "Motivo de usarmos todas as colunas que é elas são as mais relevantes se levarmos em consideração o imovel, porque tudo depende do que o cliente necessita e quer, o espaço que seria a area no caso é muito importante quando compramos um imovel, o valor do condominio, o valor do aluguel, seguro e impostos combina com a area em si porque não adianta tentar comprar uma area pequena se o total de tudo isso é caro por exemplo, então esses parametros acabam se relacionando, a cidade onde ele quer o imovel, o andar que ele queira as vezes muito alto, as vezes baixo ou ate no meio, quantidade de banheiro, vagas de estacionamento e quartos depende também do interesse do cliente porque vai que ele tem uma familia grande ou pequena.\n",
        "\n",
        "Motivo de não usarmos as outras colunas não é que elas são menos relevantes ou inuteis, mas sim porque elas já são incluidas no valor total do imovel, então inves de olhar as 4 colunas, a gente pode olhar so um valor que é o total."
      ]
    },
    {
      "cell_type": "markdown",
      "metadata": {
        "id": "Ug6QzKBQdF2n"
      },
      "source": [
        "## Modelo para o problema imobiliario\n",
        "\n",
        "Queremos criar um controlador nebuloso onde podemos sugerir para a pessoa que está olhando um imóvel se vale a pena comprar ou não.\n",
        "\n",
        "Antes de começarmos a logica nebulosa, precisamos filtrar os valores que tem só dois possiveis, por exemplo, se aceita ou não animais, se é imobiliada ou não, se é da cidade local ou não.\n",
        "\n",
        "Depois de concluido essa parte, a gente executa a lógica nebulosa que vai ser apresentado a seguir\n",
        "\n",
        "---\n",
        "\n"
      ]
    },
    {
      "cell_type": "markdown",
      "metadata": {
        "id": "fSHfT9LtfuPC"
      },
      "source": [
        "## Conceitos importantes:\n",
        "- universo: é a faixa de valores nítidos, seria a escala de um valor menor até um valor maior.\n",
        "- conjunto nebuloso: é faixa de valores nebulosos, como fraco, aceitável, ótimo, bom, muito ruim."
      ]
    },
    {
      "cell_type": "markdown",
      "metadata": {
        "id": "xKju_qbKcz1m"
      },
      "source": [
        "*   **Antecedentes** (entradas)\n",
        "\n",
        "  - **Rooms** \n",
        "\n",
        "      - universo: quantidade de quartos no imóvel, em escala 1 a 8?\n",
        "      - conjunto nebuloso: pequeno, médio e grande.\n",
        "\n",
        "  - **Floor** \n",
        "\n",
        "      - universo: andar do imóvel, em escala 1 a 99?\n",
        "      - conjunto nebuloso: baixo, médio e alto.\n",
        "\n",
        "  - **Bathroom** \n",
        "\n",
        "      - universo: quantidade de banheiros no imóvel, em escala 1 a 7?\n",
        "      - conjunto nebuloso: pequeno, médio e grande.\n",
        "\n",
        "  - **Parking spaces** \n",
        "\n",
        "      - universo: quantidade de vagas de estacionamento no imovel, em escala 0 a 8?\n",
        "      - conjunto nebuloso: pequeno, médio e grande.\n",
        "\n",
        "  - **Área** \n",
        "\n",
        "      - universo: tamanho da área do imóvel, em escala 10 a 1000?\n",
        "      - conjunto nebuloso: pequeno, médio e grande.\n",
        "  \n",
        " -  **Total**\n",
        "\n",
        "       - universo: valor total do condomínio, aluguel, imposto e seguro, em escala de R$1000 a R$17000?\n",
        "       - conjunto nebuloso: baixo, médio, alto\n",
        "       \n",
        "*   **Consequentes** (saídas)\n",
        "        \n",
        "   - **Compra**\n",
        "   \n",
        "        - universo: a compra do imóvel, em escala de 0% a 100%.\n",
        "        - conjunto nebuloso: baixa, média, alta.\n",
        "        \n",
        "*  **Regras**\n",
        "\n",
        "  Tudo depende do interesse do comprador, então precisamos considerar cada coluna e o valor que o comprador escolheu:\n",
        "  - Área\n",
        "    - SE a **Área** do cliente for maior e igual a 1 e menor e igual a 100     \n",
        "      - Regra: SE a **Área** for pequena ou media ou grande, ENTÃO a **Compra** será alta\n",
        "    - SE a **Área** do cliente for maior e igual a 100 e menor e igual a 500     \n",
        "      - Regra: SE a **Área** for media ou grande, ENTÃO a **Compra** será alta\n",
        "      - Regra: SE a **Área** for pequena, ENTÃO a **Compra** será baixa\n",
        "    - SE a **Área** do cliente for maior e igual a 500     \n",
        "      - Regra: SE a **Área** for grande, ENTÃO a **Compra** será alta\n",
        "      - Regra: SE a **Área** for pequena ou media, ENTÃO a **Compra** será baixa\n",
        "\n",
        "  - Total\n",
        "    - SE o **Total** do cliente for maior e igual a 1 e menor e igual a 4000     \n",
        "      - Regra: SE o **Total** for pequena, ENTÃO a **Compra** será alta\n",
        "      - Regra: SE o **Total** for media ou grande, ENTÃO a **Compra** será baixa\n",
        "    - SE o **Total** do cliente for maior e igual a 4000 e menor e igual a 6000     \n",
        "      - Regra: SE o **Total** for pequena ou média, ENTÃO a **Compra** será alta\n",
        "      - Regra: SE o **Total** for alto, ENTÃO a **Compra** será baixa\n",
        "    - SE o **Total** do cliente for maior e igual a 6000     \n",
        "      - Regra: SE o **Total** for pequena, media ou alta, ENTÃO a **Compra** será alta\n",
        "\n",
        "  - Bathroom\n",
        "    - SE o **Bathroom** do cliente for maior e igual a 1 e menor e igual a 2     \n",
        "      - Regra: SE o **Bathroom** for pequena ou media ou grande, ENTÃO a **Compra** será média\n",
        "    - SE o **Bathroom** do cliente for maior e igual a 3 e menor e igual a 4     \n",
        "      - Regra: SE o **Bathroom** for media ou grande, ENTÃO a **Compra** será média\n",
        "    - SE a **Área** do cliente for maior e igual a 5     \n",
        "      - Regra: SE o **Bathroom** for grande, ENTÃO a **Compra** será média\n",
        "  \n",
        "  - Parking Space\n",
        "    - SE o **Parking Space** do cliente for maior e igual a 0 e menor e igual a 2     \n",
        "      - Regra: SE o **Parking Space** for pequena ou media ou grande, ENTÃO a **Compra** será média\n",
        "    - SE o **Parking Space** do cliente for maior e igual a 3 e menor e igual a 4     \n",
        "      - Regra: SE o **Parking Space** for media ou grande, ENTÃO a **Compra** será média\n",
        "    - SE a **Área** do cliente for maior e igual a 5     \n",
        "      - Regra: SE o **Parking Space** for grande, ENTÃO a **Compra** será média\n",
        "      \n",
        "  - Floor\n",
        "    - SE o **Floor** do cliente for maior e igual a 0 e menor e igual a 10     \n",
        "      - Regra: SE o **Floor** for pequena, ENTÃO a **Compra** será média\n",
        "    - SE o **Floor** do cliente for maior e igual a 10 e menor e igual a 60     \n",
        "      - Regra: SE o **Floor** for media ou grande, ENTÃO a **Compra** será média\n",
        "    - SE a **Área** do cliente for maior e igual a 60   \n",
        "      - Regra: SE o **Floor** for grande, ENTÃO a **Compra** será média\n",
        "\n",
        "*  **Exemplo**\n",
        "\n",
        "  - Área de um imóvel é 200\n",
        "  - Valor total equivale a R$3000\n",
        "  - Número de quartos é 1\n",
        "  - Número de banheiros é 1\n",
        "  - Número de vagas para estacionar é 1\n",
        "  - Permitido animal no imóvel\n",
        "  - Imóvel localizado na cidade local\n",
        "  - É iimobiliada\n",
        "  - Fica no 1 andar \n",
        "\n",
        "  Recomendaria: \n",
        "  - Compra entre 50% e 55% \n",
        "\n",
        "A chance de compra fica entre 50% e 55% porque dependendo do imóvel, temos que garantir que todas os requisitos do cliente estão sendo aceitos e mesmo que alguns não estão a gente tem que verificar qual é a melhor solução através da lógica nebulosa\n",
        "\n",
        "Perceba que nossa compra varia de 0% até 100% e tudo que é acima de 50% já é considerado uma boa escolha"
      ]
    }
  ]
}