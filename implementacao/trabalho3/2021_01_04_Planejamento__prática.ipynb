{
  "nbformat": 4,
  "nbformat_minor": 0,
  "metadata": {
    "colab": {
      "name": "2021.01_04_Planejamento_ prática.ipynb",
      "provenance": [],
      "collapsed_sections": []
    },
    "kernelspec": {
      "name": "python3",
      "display_name": "Python 3"
    }
  },
  "cells": [
    {
      "cell_type": "markdown",
      "metadata": {
        "id": "c3ErLUCP4yU1"
      },
      "source": [
        "**Instituto de Informática - UFG**\n",
        "\n",
        "Disciplina: Inteligência Computacional\n",
        "\n",
        "Prof. Cedric Luiz de Carvalho\n",
        "\n",
        "Aluna(o): Arthur Gomes de Siqueira\n",
        "\n",
        "Aluna(o): Ricardo Ataide de Oliveira Junior\n",
        "\n",
        "\n",
        "---\n"
      ]
    },
    {
      "cell_type": "markdown",
      "metadata": {
        "id": "tzDHkkDU3CZ9"
      },
      "source": [
        "# Atividade Prática - planejamento"
      ]
    },
    {
      "cell_type": "markdown",
      "metadata": {
        "id": "tTJvIOLu3Iup"
      },
      "source": [
        "* Projetar um jogo de estratégia, com pelo menos dois competidores. O objetivo do jogo é sair de um local sorteado aleatoriamente, e ir visitando outros locais pelo caminho, até atingir o objetivo final. Em cada local visitado ao longo do caminho, os competidores poderão adquirir objetos, dependendo de certas condições que devem ser satisfeitas (por exemplo, o objeto estar disponível, o competidor conseguir carregá-lo, o competidor já ter adquirido um outro objeto antes - uma chave, por exemplo, para abrir um cofre, etc.). Cada objeto vale um certo número de pontos e tem suas características (tamanho, peso, etc.). Vencerá o jogo o competidor que atingir o objetivo com maior quantidade de pontos. Para evitar que o jogo nunca termine, estabeleça que, após um dos jogadores atingir o objetivo final, os demais deverão também atingí-lo dentro de um certo limite de tempo, sob pena de perder o jogo. Estabeleça também um limite de tempo máximo para o primeiro jogador atingir o objetivo e crie uma classificação dos jogadores com melhor desempenho durante várias rodadas do jogo.\n",
        "* O problema deve ser resolvido utilizando as técnicas de planejamento estudadas.\n",
        "* O trabalho deve ser feito em grupos, conforme definido. Cada grupo deverá entregar apenas um produto final para ser avaliado pelo professor. Apesar do trabalho ser feito em grupos, a avaliação de cada aluno será feita individualmente. Desta forma, o grupo deverá entregar um notebook, nomeado da seguinte forma: aluno01_aluno02_planejamento.ipynb, que deverá ser submetido na Plataforma Turing."
      ]
    },
    {
      "cell_type": "markdown",
      "metadata": {
        "id": "gsAElHfbwAl1"
      },
      "source": [
        "## O que deve ser entregue"
      ]
    },
    {
      "cell_type": "markdown",
      "metadata": {
        "id": "65JLtIdl8hyY"
      },
      "source": [
        "(1) Descrição detalhada do modelo (representação abstrata) a ser usado na resolução do problema."
      ]
    },
    {
      "cell_type": "markdown",
      "metadata": {
        "id": "2m81WIKlptAL"
      },
      "source": [
        "(2) Instanciação do modelo para o caso específico a ser tratado.\n",
        "\n"
      ]
    },
    {
      "cell_type": "markdown",
      "metadata": {
        "id": "bMk0BABppwQL"
      },
      "source": [
        "(3) Codificação - poderão ser utilizados códigos desenvolvidos pelo grupo e/ou códigos de terceiros. No caso de se usar códigos desenvolvidos por terceiros, o autor desses códigos deve ser devidamente referenciado e os códigos devem ser devidamente documentados (comentários no próprio código e fora dele).\n"
      ]
    },
    {
      "cell_type": "markdown",
      "metadata": {
        "id": "nBQTLXCYp3j0"
      },
      "source": [
        "\n",
        "(4) Descrição detalhada das atividades realizadas por cada membro do grupo.\n",
        "\n"
      ]
    },
    {
      "cell_type": "markdown",
      "metadata": {
        "id": "9wj3gpt6p6Ar"
      },
      "source": [
        "(5) Avaliação do trabalho desenvolvido, explicitando suas vantagens e limitações.\n"
      ]
    },
    {
      "cell_type": "markdown",
      "metadata": {
        "id": "cybFoq9Op74z"
      },
      "source": [
        "(6) Um vídeo explicando detalhadamente como a técnica estuda foi utilizada para resolver o problema proposto."
      ]
    },
    {
      "cell_type": "markdown",
      "metadata": {
        "id": "jRMQWSCEAxZ7"
      },
      "source": [
        "## Distribuição do trabalho:\n",
        "\n",
        "Arthur e Ricardo trabalhamos muito junto tanto na construção e definição do modelo e problema, execução dos testes e como implementar o nosso problema em si\n",
        "\n",
        "Vale destacar que o Arthur focou um pouco mais nos codigos em relação ao Ricardo mas o Ricardo ajudou com dúvidas e sugestões. E em compensação Ricardo focou em outras soluções e outros testes de outras plataformas a qual o Arthur ajudou também com discussão e dúvidas."
      ]
    },
    {
      "cell_type": "markdown",
      "metadata": {
        "id": "vF6xuwL-PK1x"
      },
      "source": [
        "## Video\n",
        "\n",
        "Link: https://drive.google.com/file/d/1ZY_75VFx0IMEHae6d3n3kXcO8E4jj9-o/view?usp=sharing"
      ]
    },
    {
      "cell_type": "markdown",
      "metadata": {
        "id": "qHMWRh72xBr2"
      },
      "source": [
        "###(1) Descrição detalhada do modelo (representação abstrata) a ser usado na resolução do problema.\n",
        "### Apresentação do mundo:\n",
        " * Jogadores\n",
        "    * Será representado por Jogador 1 e Jogador 2\n",
        "    * Jogador 1 sempre jogará primeiro e posteriormente o Jogador 2 em segundo\n",
        " * Mapa do mundo\n",
        "    * Representado por um conjunto de cidades, dentre elas uma sendo o objetivo. Tal \"conjunto\" será um grafo direcional que representará a conexão entre as cidades\n",
        "    * Os jogadores vão estar em um desses nós no inicio do jogo que será gerado aleatoriamente\n",
        " * Cidades\n",
        "    * Serão representadas como nós \n",
        " * Conexões entre as cidades\n",
        "    * Representado através de uma uma seta de uma cidade para outra\n",
        "    * As conexões são direcionadas então elas vão de uma cidade A para B e não podem ir da cidade B para a A\n",
        " * Chaves, baús\n",
        "    * Em cada cidade pode haver um item a qual pode ser tanto uma chave, um bau ou os dois ou nenhum deles, \n",
        "    * As chaves servem para abrir o bau\n",
        "    * Os baus servem para o jogador ganhar seus pontos apos serem abertos por uma chave\n",
        " * Pontuações dos itens\n",
        "    * Cada bau tem uma pontuação aleatória que vai estar na faixa de 30 á 120 pontos\n",
        " * Neste mundo também existe o conceito de tempo\n",
        "    * Após o primeiro jogador chegar no nó objetivo, o outro jogador terá um limite x de tempo (o tempo do jogador 1 + 20%) para também alcançar o mesmo nó, caso não consiga, o mesmo perderá independente da quantidade de pontos.\n",
        "  \n",
        "\n"
      ]
    },
    {
      "cell_type": "markdown",
      "metadata": {
        "id": "44iMPZpNu4sj"
      },
      "source": [
        "\n",
        " # Abordagem STRIPS:\n",
        "  * Possui pré condições para realizar uma determinada ação - ir do estado A para o estado B\n",
        "  * Possuí o estado atual\n",
        "  * Possuí pós condições, que é o estado final resultante\n",
        "\n",
        "# Resumo do modelo de abordagem STRIPS utilizado:\n",
        "## Estados – Caractéristica{\n",
        "\n",
        "* PLAYER_LOC – Localização do player\t\t\n",
        "\n",
        "* CHAVE_NO – Tem uma chave no nó\n",
        "\n",
        "* BAU_NO – Tem um bau no nó\n",
        "\n",
        "* PLAYER_COM_CHAVE – Player tem uma chave\n",
        "\n",
        "}\n",
        "## Ações\n",
        "\n",
        "move{\n",
        "\n",
        "*   **Pré requisitos:** Jogador não estar no nó objetivo, possuir um nó fronteira para onde o jogador possa se mover, o tempo para execução de ações não esteja esgotado\n",
        "*   **Ação:** Mover de uma posição para outra,\n",
        "*    **Novo estado alcançado:** Jogador na localização de uma cidade vizinha a cidade anterior.\n",
        "\n",
        "}\n",
        "\n",
        "pegar_chave – {\n",
        "\n",
        "*   **Pré requisitos:** Jogador possuir nenhuma chave em sua posse, existir uma chave no nó/cidade em que o jogador está\n",
        "*   **Ação:** Coleta uma chave\n",
        "*    **Novo estado alcançado:** Jogador possuí uma chave\n",
        "\n",
        "}\n",
        "\n",
        "\n",
        "abrir_bau {\n",
        "\n",
        "*   **Pré requisitos:** Jogador possuir uma chave em sua posse, existir baú no nó/cidade em que o jogador está\n",
        "*   **Ação:** Abre um baú\n",
        "*    **Novo estado alcançado:** Jogador coleta a pontuação do item presente no baú\n",
        "\n",
        "}\n",
        "\n",
        "\n"
      ]
    },
    {
      "cell_type": "markdown",
      "metadata": {
        "id": "DSJYONujJPAK"
      },
      "source": [
        "## Implementação:\n",
        "  * Tempo: O(n), onde n é a quantidade de nós\n",
        "  * Espaço: O(n)\n",
        "  * O problema ele não será um algoritmo ótimo e completo, sempre retornando o melhor resultado possível"
      ]
    },
    {
      "cell_type": "code",
      "metadata": {
        "colab": {
          "base_uri": "https://localhost:8080/",
          "height": 288
        },
        "id": "EnY5LeK0SLIw",
        "outputId": "d995a3ca-28b5-451e-e2b1-9c1a82c44afe"
      },
      "source": [
        "from IPython.display import Image\n",
        "Image(\"grafo.png\")"
      ],
      "execution_count": null,
      "outputs": [
        {
          "output_type": "execute_result",
          "data": {
            "image/png": "[encoded data removed]",
            "text/plain": [
              "<IPython.core.display.Image object>"
            ]
          },
          "metadata": {},
          "execution_count": 14
        }
      ]
    },
    {
      "cell_type": "code",
      "metadata": {
        "id": "VB2h-7k9VXsC"
      },
      "source": [
        "#Baseado no codigo de planejamento que o professor apresentou em aula\n",
        "import time as time\n",
        "import random #biblioteca para gerar numeros aleatorios\n",
        "\n",
        "\"\"\"\n",
        "define a representação STRIPS para uma ação:\n",
        "- preconditions é um dicionário 'feature:value' que deve valer para a ação que está sendo executada.\n",
        "- effects é um mapeamento 'feature:value' que esta ação torna verdadeiro. A ação muda o valor de uma \n",
        "característica específica, e deixa as outras inalteradas.\n",
        "- cost é o custo da ação.\n",
        "\"\"\"\n",
        "class Strips(object): \n",
        "  def __init__(self, preconditions, effects, cost=1):\n",
        "    self.preconditions = preconditions\n",
        "    self.effects = effects\n",
        "    self.cost = cost\n",
        "\n",
        "\"\"\" \n",
        "O domínio do problema \n",
        "- feats_vals é um dicionário 'feature:domain', que mapeia cada caracterísica para \n",
        "o seu domínio (valores possíveis das características).\n",
        "- 'actions' é um dicionário 'action:strips', que mapeia cada ação para a sua \n",
        "representação Strips(precondições, efeitos).\n",
        "\"\"\"\n",
        "class STRIPS_domain(object):\n",
        "  def __init__(self, feats_vals, strips_map):\n",
        "    self.feats_vals = feats_vals\n",
        "    self.actions = strips_map # conjunto de todas as ações\n",
        "\n",
        "\"\"\"\n",
        "O planejamento do problema que possui:\n",
        "- prob_domain que seria o dominio\n",
        "- state que é o estado que estamos\n",
        "- goal que seria a nossa meta, onde queremos chegar\n",
        "\"\"\"\n",
        "         \n",
        "class Planning_problem(object):\n",
        "  def __init__(self, prob_domain, state, goal):\n",
        "    self.prob_domain = prob_domain\n",
        "    self.state = state\n",
        "    self.goal = goal\n",
        "\n"
      ],
      "execution_count": null,
      "outputs": []
    },
    {
      "cell_type": "code",
      "metadata": {
        "id": "DeW_WG92Z2Hz"
      },
      "source": [
        "# Especificação do problema NOME_DO_JOGO: \n",
        "\n",
        "#Especificaçoes do jogo e regras estabelecidas\n",
        "boolean = {True, False}\n",
        "delivery_domain = STRIPS_domain(\n",
        "    {'PLAYER_LOC':{'0', '1', '2', '3', '4', '5', 'Objetivo'}, 'CHAVE_NO':boolean, 'BAU_NO':boolean, \n",
        "    'PLAYER_COM_CHAVE':boolean}, #dicionário de 'características:valores'\n",
        "    {'move_0_2': Strips({'PLAYER_LOC':'0'}, {'PLAYER_LOC':'2'}), \n",
        "     'move_2_4': Strips({'PLAYER_LOC':'2'}, {'PLAYER_LOC':'4'}),\n",
        "     'move_2_1': Strips({'PLAYER_LOC':'2'}, {'PLAYER_LOC':'1'}),\n",
        "     'move_4_3': Strips({'PLAYER_LOC':'4'}, {'PLAYER_LOC':'3'}),\n",
        "     'move_4_Objetivo': Strips({'PLAYER_LOC':'4'}, {'PLAYER_LOC':'Objetivo'}),\n",
        "     'move_5_Objetivo': Strips({'PLAYER_LOC':'5'}, {'PLAYER_LOC':'Objetivo'}),\n",
        "     'move_5_2': Strips({'PLAYER_LOC':'5'}, {'PLAYER_LOC':'2'}),\n",
        "     'move_3_5': Strips({'PLAYER_LOC':'3'}, {'PLAYER_LOC':'5'}),\n",
        "     'move_3_0': Strips({'PLAYER_LOC':'3'}, {'PLAYER_LOC':'0'}),\n",
        "     'move_1_3': Strips({'PLAYER_LOC':'1'}, {'PLAYER_LOC':'3'}),\n",
        "     'pegar_chave': Strips({'PLAYER_COM_CHAVE':False, 'CHAVE_NO': True}, {'PLAYER_COM_CHAVE':True}),\n",
        "     'abrir_bau': Strips({'PLAYER_COM_CHAVE':True, 'BAU_NO': True}, {'PLAYER_COM_CHAVE':False})\n",
        "    } )# strips-map - dicionário 'ações: Strips(precondições, efeitos, custo=1)'"
      ],
      "execution_count": null,
      "outputs": []
    },
    {
      "cell_type": "code",
      "metadata": {
        "id": "9XFHJSRHZ4rg"
      },
      "source": [
        "#vai marcar o tempo\n",
        "def marcar_tempo():\n",
        "  return time.time();"
      ],
      "execution_count": null,
      "outputs": []
    },
    {
      "cell_type": "code",
      "metadata": {
        "id": "_tKrA-pW5UdL"
      },
      "source": [
        "#algoritmo dfs\n",
        "def dfs(problema, pontos, loc_key, loc_bau, Grafo):\n",
        "  visitados = set()\n",
        "  return dfs_recursivo(visitados, pontos, problema, loc_key, loc_bau, Grafo)\n",
        "\n",
        "#algoritmo dfs recursivo, recursao do dfs\n",
        "def dfs_recursivo(visitados, pontos, problema, loc_key, loc_bau, Grafo):\n",
        "\n",
        "  voltar_problema_inicio = problema # pega o problema original\n",
        "  localizacao_jogador = problema.state['PLAYER_LOC'] #pega a localizacao do jogador\n",
        "  \n",
        "  #verifica se tem chave no nó e se o jogador pode pegar a chave\n",
        "  if (loc_key[localizacao_jogador] == problema.prob_domain.actions['pegar_chave'].preconditions['CHAVE_NO'] and \n",
        "      problema.state['PLAYER_COM_CHAVE'] == problema.prob_domain.actions['pegar_chave'].preconditions['PLAYER_COM_CHAVE']):\n",
        "    \n",
        "    #jogador pega a chave\n",
        "    problema.state['PLAYER_COM_CHAVE'] = problema.prob_domain.actions['pegar_chave'].effects['PLAYER_COM_CHAVE']\n",
        "    \n",
        "  #verifica se tem bau no nó e se o jogador tem chave para abrir\n",
        "  if (loc_bau[localizacao_jogador] == problema.prob_domain.actions['abrir_bau'].preconditions['BAU_NO'] and \n",
        "      problema.state['PLAYER_COM_CHAVE'] == problema.prob_domain.actions['abrir_bau'].preconditions['PLAYER_COM_CHAVE']):\n",
        "    \n",
        "    #jogador abre o bau\n",
        "    problema.state['PLAYER_COM_CHAVE'] = problema.prob_domain.actions['abrir_bau'].effects['PLAYER_COM_CHAVE']\n",
        "    \n",
        "    #jogador abriu o bau e ganhou uma quantidade X de pontos\n",
        "    pontos = pontos + 1\n",
        "\n",
        "  visitados.add(localizacao_jogador) #cidade atual adicionada como visitada\n",
        "  \n",
        "  #chegou ao destino\n",
        "  if (localizacao_jogador == problema.goal['PLAYER_LOC']):\n",
        "    return pontos\n",
        "\n",
        "  #maximo de pontos marcado pelo jogador\n",
        "  maximo_de_pontos = 0\n",
        "  for cidade_viz in Grafo[localizacao_jogador]:\n",
        "    if cidade_viz in visitados: #verifica se cidade vizinha foi visitada\n",
        "      continue\n",
        "    \n",
        "    mov = 'move_' + localizacao_jogador + '_' + cidade_viz\n",
        "\n",
        "    #verifica se podemos mover de uma cidade pra outra\n",
        "    if(localizacao_jogador == problema.prob_domain.actions[mov].preconditions['PLAYER_LOC'] and \n",
        "       cidade_viz == problema.prob_domain.actions[mov].effects['PLAYER_LOC']):\n",
        "      \n",
        "      #muda a localizacao do jogador para a nova\n",
        "      problema.state['PLAYER_LOC'] = cidade_viz\n",
        "      maximo_de_pontos = max(maximo_de_pontos, dfs_recursivo(visitados, pontos, problema, loc_key, loc_bau, Grafo)) #procura nos seus vizinhos a maior pontuacao possivel\n",
        "      problema = voltar_problema_inicio #voltamos ao problema original\n",
        "\n",
        "  visitados.remove(localizacao_jogador) #remove cidade como visitado\n",
        "  return maximo_de_pontos;\n",
        "\n",
        "#algoritmo dfs jogador 2\n",
        "def dfs_jogador2(problema, pontos, loc_key, loc_bau, Grafo):\n",
        "  visitados = set()\n",
        "  return dfs_recursivo_jogador2(visitados, pontos, problema, loc_key, loc_bau, Grafo)\n",
        "\n",
        "#algoritmo dfs recursivo, so um suporte\n",
        "def dfs_recursivo_jogador2(visitados, pontos, problema, loc_key, loc_bau, Grafo):\n",
        "\n",
        "  voltar_problema_inicio = problema # pega o problema original\n",
        "  localizacao_jogador = problema.state['PLAYER_LOC'] #pega a localizacao do jogador\n",
        "  vitoria_jogador2 = 0 #marca se o jogador venceu(1), perdeu por tempo(-1) ou esta ainda competindo(0)\n",
        "\n",
        "  #verifica se tem chave no nó e se o jogador pode pegar a chave\n",
        "  if (loc_key[localizacao_jogador] == problema.prob_domain.actions['pegar_chave'].preconditions['CHAVE_NO'] and \n",
        "      problema.state['PLAYER_COM_CHAVE'] == problema.prob_domain.actions['pegar_chave'].preconditions['PLAYER_COM_CHAVE']):\n",
        "    \n",
        "    #jogador pega a chave\n",
        "    problema.state['PLAYER_COM_CHAVE'] = problema.prob_domain.actions['pegar_chave'].effects['PLAYER_COM_CHAVE']\n",
        "      \n",
        "  #verifica se tem bau no nó e se o jogador tem chave para abrir\n",
        "  if (loc_bau[localizacao_jogador] == problema.prob_domain.actions['abrir_bau'].preconditions['BAU_NO'] and problema.state['PLAYER_COM_CHAVE'] == problema.prob_domain.actions['abrir_bau'].preconditions['PLAYER_COM_CHAVE']):\n",
        "    \n",
        "    #jogador abre o bau\n",
        "    problema.state['PLAYER_COM_CHAVE'] = problema.prob_domain.actions['abrir_bau'].effects['PLAYER_COM_CHAVE']\n",
        "    \n",
        "    #jogador abriu o bau e ganhou uma quantidade X de pontos\n",
        "    pontos = pontos + 1\n",
        "\n",
        "  visitados.add(localizacao_jogador) #cidade atual adicionada como visitada\n",
        "  \n",
        "  #jogador chegou ao destino\n",
        "  if (localizacao_jogador == problema.goal['PLAYER_LOC']):  \n",
        "    return pontos #retorna qtd de bau coletados\n",
        "\n",
        "  maximo_de_pontos = 0\n",
        "  for cidade_viz in Grafo[localizacao_jogador]:\n",
        "    if cidade_viz in visitados: #verifica se cidade vizinha foi visitada\n",
        "      continue\n",
        "    \n",
        "    mov = 'move_' + localizacao_jogador + '_' + cidade_viz\n",
        "\n",
        "    #verifica se podemos mover de uma cidade pra outra\n",
        "    if(localizacao_jogador == problema.prob_domain.actions[mov].preconditions['PLAYER_LOC'] and \n",
        "       cidade_viz == problema.prob_domain.actions[mov].effects['PLAYER_LOC']):\n",
        "      \n",
        "      problema.state['PLAYER_LOC'] = cidade_viz #muda a localizacao do jogador para a nova\n",
        "      resultado = dfs_recursivo_jogador2(visitados, pontos, problema, loc_key, loc_bau, Grafo)\n",
        "      maximo_de_pontos = max(maximo_de_pontos, resultado) #pega o maximo de pontos\n",
        "\n",
        "      problema = voltar_problema_inicio #problema volta pro original\n",
        "\n",
        "  visitados.remove(localizacao_jogador) #remove cidade como visitado\n",
        "  return maximo_de_pontos;\n"
      ],
      "execution_count": null,
      "outputs": []
    },
    {
      "cell_type": "code",
      "metadata": {
        "id": "kmTVNFWZp1kD"
      },
      "source": [
        "#setup\n",
        "\n",
        "#Cada localização e verificando se há bau ou nao\n",
        "localizacao_bau = {'0': False, '1': False, '2': True, '3': True, '4': False, '5': False, 'Objetivo': True}\n",
        "\n",
        "#MUDAR O VALOR DAS VARIAVEIS\n",
        "#Cada localização e verificando se há chave ou nao \n",
        "localizacao_key = {'0': True, '1': True, '2': False, '3': False, '4': False, '5': True, 'Objetivo': False}\n",
        "\n",
        "Full_Grafo = {'0': ['2'],\n",
        "              '1': ['3'],\n",
        "              '2': ['1', '4'],\n",
        "              '3': ['0', '5'],\n",
        "              '4': ['3', 'Objetivo'],\n",
        "              '5': ['2', 'Objetivo'],\n",
        "              'Objetivo': []}"
      ],
      "execution_count": null,
      "outputs": []
    },
    {
      "cell_type": "markdown",
      "metadata": {
        "id": "5s7G-0hK_SKN"
      },
      "source": [
        "## Realização de alguns testes"
      ]
    },
    {
      "cell_type": "code",
      "metadata": {
        "colab": {
          "base_uri": "https://localhost:8080/"
        },
        "id": "B_h-D6j3xTXb",
        "outputId": "0499f429-b4ff-480f-82fd-06818e42a500"
      },
      "source": [
        "jogador_1_win = 0\n",
        "jogador_2_win = 0\n",
        "for i in range(0,10):\n",
        "  #testes\n",
        "  print ('\\n============================================================TESTE ', i,'============================================================' )\n",
        "  situacao_jogador1 = Planning_problem(delivery_domain, #domínio\n",
        "      {'PLAYER_LOC': str(random.randrange(0, 6)), 'CHAVE_NO':False, 'BAU_NO':False, 'PLAYER_COM_CHAVE':False}, #estado inicial\n",
        "      {'PLAYER_LOC':'Objetivo'}) #meta\n",
        "\n",
        "  situacao_jogador2 = Planning_problem(delivery_domain, #domínio\n",
        "      {'PLAYER_LOC': str(random.randrange(0, 6)), 'CHAVE_NO':False, 'BAU_NO':False, 'PLAYER_COM_CHAVE':False}, #estado inicial\n",
        "      {'PLAYER_LOC':'Objetivo'}) #meta\n",
        "\n",
        "  #primeiro jogador\n",
        "  print(\"\\nJogador 1 começa jogar\\n\")\n",
        "\n",
        "  tempo_inicio = marcar_tempo()\n",
        "  bau_encontrado = dfs(situacao_jogador1, 0, localizacao_key, localizacao_bau, Full_Grafo)\n",
        "  tempo_final = marcar_tempo()\n",
        "\n",
        "  pontos_jogador1 = 0\n",
        "  for i in range(0, bau_encontrado):\n",
        "    pontos_jogador1 = pontos_jogador1 + random.randrange(30, 121)\n",
        "  \n",
        "  print(\"Quantidade de pontos marcados pelo jogador 1: \", pontos_jogador1)\n",
        "\n",
        "  valor_tempo = tempo_final - tempo_inicio\n",
        "  print(\"Tempo Gasto pelo jogador 1: \", valor_tempo)\n",
        "  print(\"Tempo Gasto pelo jogador 1 + limite(20% do tempo do jogador 1): \", valor_tempo + (valor_tempo * 0.2))\n",
        "\n",
        "  #segundo jogador\n",
        "  print(\"\\nJogador 2 começa a jogar\\n\")\n",
        "  tempo_inicio2 = marcar_tempo()\n",
        "  bau_encontrado2 = dfs_jogador2(situacao_jogador2, 0, localizacao_key, localizacao_bau, Full_Grafo)\n",
        "  tempo_final2 = marcar_tempo()\n",
        "  \n",
        "  pontos_jogador2 = 0\n",
        "  for i in range(0, bau_encontrado2):\n",
        "    pontos_jogador2 = pontos_jogador2 + random.randrange(30, 121)\n",
        "  \n",
        "  print(\"Quantidade de pontos marcados pelo jogador 2: \", pontos_jogador2)\n",
        "\n",
        "  valor_tempo2 = tempo_final2 - tempo_inicio2\n",
        "  print(\"Tempo Gasto pelo jogador 2: \", valor_tempo2)\n",
        "  print(\"\")\n",
        "  if(valor_tempo2 > valor_tempo + (valor_tempo * 0.2)):\n",
        "    print(\"Vitoria jogador 1 por jogador 2 nao conseguir terminar no tempo\")\n",
        "    jogador_1_win = jogador_1_win + 1\n",
        "  else:\n",
        "    if(pontos_jogador1 > pontos_jogador2):\n",
        "      print(\"Vitoria jogador 1 por mais pontos\")\n",
        "      jogador_1_win = jogador_1_win + 1\n",
        "    elif(pontos_jogador1 < pontos_jogador2):\n",
        "       jogador_2_win = jogador_2_win + 1\n",
        "       print(\"Vitoria jogador 2 por mais pontos\")\n",
        "\n",
        "    print(\"Pontos jogador 1: \" + str(pontos_jogador1) + \" Pontos jogador 2: \" + str(pontos_jogador2))\n",
        "  #time.sleep(0.5)\n",
        "\n",
        "print(\"\")\n",
        "print('Vitórias do Jogador 1 : ', jogador_1_win)\n",
        "print('Vitórias do Jogador 2 : ', jogador_2_win)\n",
        "\n",
        "\n"
      ],
      "execution_count": null,
      "outputs": [
        {
          "output_type": "stream",
          "name": "stdout",
          "text": [
            "\n",
            "============================================================TESTE  0 ============================================================\n",
            "\n",
            "Jogador 1 começa jogar\n",
            "\n",
            "Quantidade de pontos marcados pelo jogador 1:  209\n",
            "Tempo Gasto pelo jogador 1:  5.7697296142578125e-05\n",
            "Tempo Gasto pelo jogador 1 + limite(20% do tempo do jogador 1):  6.923675537109374e-05\n",
            "\n",
            "Jogador 2 começa a jogar\n",
            "\n",
            "Quantidade de pontos marcados pelo jogador 2:  195\n",
            "Tempo Gasto pelo jogador 2:  4.172325134277344e-05\n",
            "\n",
            "Vitoria jogador 1 por mais pontos\n",
            "Pontos jogador 1: 209 Pontos jogador 2: 195\n",
            "\n",
            "============================================================TESTE  1 ============================================================\n",
            "\n",
            "Jogador 1 começa jogar\n",
            "\n",
            "Quantidade de pontos marcados pelo jogador 1:  116\n",
            "Tempo Gasto pelo jogador 1:  4.1961669921875e-05\n",
            "Tempo Gasto pelo jogador 1 + limite(20% do tempo do jogador 1):  5.035400390625e-05\n",
            "\n",
            "Jogador 2 começa a jogar\n",
            "\n",
            "Quantidade de pontos marcados pelo jogador 2:  98\n",
            "Tempo Gasto pelo jogador 2:  5.269050598144531e-05\n",
            "\n",
            "Vitoria jogador 1 por jogador 2 nao conseguir terminar no tempo\n",
            "\n",
            "============================================================TESTE  2 ============================================================\n",
            "\n",
            "Jogador 1 começa jogar\n",
            "\n",
            "Quantidade de pontos marcados pelo jogador 1:  170\n",
            "Tempo Gasto pelo jogador 1:  5.602836608886719e-05\n",
            "Tempo Gasto pelo jogador 1 + limite(20% do tempo do jogador 1):  6.723403930664062e-05\n",
            "\n",
            "Jogador 2 começa a jogar\n",
            "\n",
            "Quantidade de pontos marcados pelo jogador 2:  139\n",
            "Tempo Gasto pelo jogador 2:  5.817413330078125e-05\n",
            "\n",
            "Vitoria jogador 1 por mais pontos\n",
            "Pontos jogador 1: 170 Pontos jogador 2: 139\n",
            "\n",
            "============================================================TESTE  3 ============================================================\n",
            "\n",
            "Jogador 1 começa jogar\n",
            "\n",
            "Quantidade de pontos marcados pelo jogador 1:  284\n",
            "Tempo Gasto pelo jogador 1:  4.5299530029296875e-05\n",
            "Tempo Gasto pelo jogador 1 + limite(20% do tempo do jogador 1):  5.435943603515625e-05\n",
            "\n",
            "Jogador 2 começa a jogar\n",
            "\n",
            "Quantidade de pontos marcados pelo jogador 2:  125\n",
            "Tempo Gasto pelo jogador 2:  4.4345855712890625e-05\n",
            "\n",
            "Vitoria jogador 1 por mais pontos\n",
            "Pontos jogador 1: 284 Pontos jogador 2: 125\n",
            "\n",
            "============================================================TESTE  4 ============================================================\n",
            "\n",
            "Jogador 1 começa jogar\n",
            "\n",
            "Quantidade de pontos marcados pelo jogador 1:  181\n",
            "Tempo Gasto pelo jogador 1:  6.0558319091796875e-05\n",
            "Tempo Gasto pelo jogador 1 + limite(20% do tempo do jogador 1):  7.266998291015625e-05\n",
            "\n",
            "Jogador 2 começa a jogar\n",
            "\n",
            "Quantidade de pontos marcados pelo jogador 2:  146\n",
            "Tempo Gasto pelo jogador 2:  5.9604644775390625e-05\n",
            "\n",
            "Vitoria jogador 1 por mais pontos\n",
            "Pontos jogador 1: 181 Pontos jogador 2: 146\n",
            "\n",
            "============================================================TESTE  5 ============================================================\n",
            "\n",
            "Jogador 1 começa jogar\n",
            "\n",
            "Quantidade de pontos marcados pelo jogador 1:  166\n",
            "Tempo Gasto pelo jogador 1:  4.482269287109375e-05\n",
            "Tempo Gasto pelo jogador 1 + limite(20% do tempo do jogador 1):  5.37872314453125e-05\n",
            "\n",
            "Jogador 2 começa a jogar\n",
            "\n",
            "Quantidade de pontos marcados pelo jogador 2:  142\n",
            "Tempo Gasto pelo jogador 2:  5.3882598876953125e-05\n",
            "\n",
            "Vitoria jogador 1 por jogador 2 nao conseguir terminar no tempo\n",
            "\n",
            "============================================================TESTE  6 ============================================================\n",
            "\n",
            "Jogador 1 começa jogar\n",
            "\n",
            "Quantidade de pontos marcados pelo jogador 1:  146\n",
            "Tempo Gasto pelo jogador 1:  5.316734313964844e-05\n",
            "Tempo Gasto pelo jogador 1 + limite(20% do tempo do jogador 1):  6.380081176757813e-05\n",
            "\n",
            "Jogador 2 começa a jogar\n",
            "\n",
            "Quantidade de pontos marcados pelo jogador 2:  176\n",
            "Tempo Gasto pelo jogador 2:  4.863739013671875e-05\n",
            "\n",
            "Vitoria jogador 2 por mais pontos\n",
            "Pontos jogador 1: 146 Pontos jogador 2: 176\n",
            "\n",
            "============================================================TESTE  7 ============================================================\n",
            "\n",
            "Jogador 1 começa jogar\n",
            "\n",
            "Quantidade de pontos marcados pelo jogador 1:  127\n",
            "Tempo Gasto pelo jogador 1:  4.5299530029296875e-05\n",
            "Tempo Gasto pelo jogador 1 + limite(20% do tempo do jogador 1):  5.435943603515625e-05\n",
            "\n",
            "Jogador 2 começa a jogar\n",
            "\n",
            "Quantidade de pontos marcados pelo jogador 2:  133\n",
            "Tempo Gasto pelo jogador 2:  5.435943603515625e-05\n",
            "\n",
            "Vitoria jogador 2 por mais pontos\n",
            "Pontos jogador 1: 127 Pontos jogador 2: 133\n",
            "\n",
            "============================================================TESTE  8 ============================================================\n",
            "\n",
            "Jogador 1 começa jogar\n",
            "\n",
            "Quantidade de pontos marcados pelo jogador 1:  185\n",
            "Tempo Gasto pelo jogador 1:  5.555152893066406e-05\n",
            "Tempo Gasto pelo jogador 1 + limite(20% do tempo do jogador 1):  6.666183471679688e-05\n",
            "\n",
            "Jogador 2 começa a jogar\n",
            "\n",
            "Quantidade de pontos marcados pelo jogador 2:  143\n",
            "Tempo Gasto pelo jogador 2:  4.4345855712890625e-05\n",
            "\n",
            "Vitoria jogador 1 por mais pontos\n",
            "Pontos jogador 1: 185 Pontos jogador 2: 143\n",
            "\n",
            "============================================================TESTE  9 ============================================================\n",
            "\n",
            "Jogador 1 começa jogar\n",
            "\n",
            "Quantidade de pontos marcados pelo jogador 1:  146\n",
            "Tempo Gasto pelo jogador 1:  4.315376281738281e-05\n",
            "Tempo Gasto pelo jogador 1 + limite(20% do tempo do jogador 1):  5.178451538085937e-05\n",
            "\n",
            "Jogador 2 começa a jogar\n",
            "\n",
            "Quantidade de pontos marcados pelo jogador 2:  108\n",
            "Tempo Gasto pelo jogador 2:  6.580352783203125e-05\n",
            "\n",
            "Vitoria jogador 1 por jogador 2 nao conseguir terminar no tempo\n",
            "\n",
            "Vitórias do Jogador 1 :  8\n",
            "Vitórias do Jogador 2 :  2\n"
          ]
        }
      ]
    },
    {
      "cell_type": "code",
      "metadata": {
        "id": "VPq06Egy3ELY"
      },
      "source": [
        ""
      ],
      "execution_count": null,
      "outputs": []
    },
    {
      "cell_type": "markdown",
      "metadata": {
        "id": "ps-Y5ykIw_lS"
      },
      "source": [
        "# Modelo em PDDL para execução do STRIPS na ferramenta: https://stripsfiddle.herokuapp.com/\n",
        "\n",
        "Para comparação, foi realizada a implementação em linguagem PDDL, do modelo aplicado nesta solução com apenas algumas pequenas modificações, as quais foram baseadas na modelagem e sintaxe apresentadas por Kory Becker, na publicação: http://www.primaryobjects.com/2015/11/06/artificial-intelligence-planning-with-strips-a-gentle-introduction/\n",
        "\n",
        "A implementação completa do código baixa na ferramenta citada pode ser acessada através do endereço:\n",
        "http://stripsfiddle.herokuapp.com?d=FcXkPJ8gjP8xt7za8&p=LzXGPQjGYqqqufLTN&a=BFS\n",
        "\n",
        "O código desenvolvido segue abaixo:\n",
        "\n",
        "    (define (domain world-chest)   -- É definido o 'mundo' do Strips, as ações possíveis e os agentes deste mundo\n",
        "    (:requirements :strips :typing)\n",
        "    (:types player location chest key)\n",
        "\n",
        "    (:action move --Ação de mover entre nós/cidades vizinhas\n",
        "        :parameters (?p - player ?l1 - location ?l2 - location)\n",
        "        :precondition (and ((at ?p ?l1) (border ?l1 ?l2))\n",
        "        :effect (and (at ?p ?l2) not (at ?p ?l1))\n",
        "    )\n",
        "    \n",
        "    (:action collected-key -Coleta uma chave somente se o jogador não possuir uma chave e se houver uma chave no nó em que o jogador se encontra \n",
        "        :parameters (?p - player ?k - key ?l1 - location)\n",
        "        :precondition (and ((at ?p ?l1) (at ?k ?l1) not (has-key ?p)) \n",
        "        :effect (and(has-key ?p) not (at ?l1 ?k))\n",
        "    )\n",
        "\n",
        "    (:action open-chest  -- Abre um baú sempre que o jogador possuir uma chave e, na posição atual do jogador, hover um baú\n",
        "        :parameters (?p - player ?c - chest ?l1 - location ?k - key)\n",
        "        :precondition (and (at ?p ?l1) (at ?c ?l1) (has-key ?p) not (open ?c))\n",
        "        :effect (and(open ?c) not (has-key ?p))\n",
        "    )\n",
        "    )\n",
        "\n",
        "\n",
        "\n",
        "    -- Inicia a Definição do problema\n",
        "    (define (problem collect-chests-while-going-to-goal)\n",
        "    (:domain world-chest)\n",
        "\n",
        "    (:objects\n",
        "        npc - player\n",
        "        chave1 chave2 chave3 - key\n",
        "        box1 box2 box3 - chest\n",
        "        0 1 2 3 4 5 objetivo - location\n",
        "    )\n",
        "    (:init  \n",
        "        -- São definidas as cidades que são vizinhas entre si\n",
        "        (border 0 2)\n",
        "        (border 2 4)\n",
        "        (border 2 1)\n",
        "        (border 4 3)\n",
        "        (border 4 objetivo)\n",
        "        (border 5 objetivo)\n",
        "        (border 5 2)\n",
        "        (border 3 5)\n",
        "        (border 3 0)\n",
        "        (border 1 3)\n",
        "\n",
        "        -- Definido a posição de inicio do jogador, chamado de npc\n",
        "        (at npc 0)\n",
        "        -- Define a posição das chaves e dos baús\n",
        "        (at chave1 0)\n",
        "        (at chave2 1)\n",
        "        (at chave3 5)\n",
        "        (at box1 2)\n",
        "        (at box2 3)\n",
        "        (at box3 objetivo)\n",
        "\n",
        "\n",
        "\n",
        "    )\n",
        "    -- Neste ponto é definido o objetivo, o objetivo é o mais 'complexo' possível, pois este será abrir todos os baús e chegar ao nó objetivo.\n",
        "    (:goal (and (open box1) (open box2) (open box3) (at npc objetivo)))\n",
        "    )\n",
        "\n",
        "\n",
        "\n",
        "\n",
        "\n",
        "\n",
        "\n"
      ]
    },
    {
      "cell_type": "markdown",
      "metadata": {
        "id": "-tnBSlewDHfK"
      },
      "source": [
        "## Considerações\n",
        "\n",
        "Executando o algoritmo implementado pelo grupo:"
      ]
    },
    {
      "cell_type": "markdown",
      "metadata": {
        "id": "Tz3nTTw8D5kK"
      },
      "source": [
        ""
      ]
    },
    {
      "cell_type": "code",
      "metadata": {
        "colab": {
          "base_uri": "https://localhost:8080/"
        },
        "id": "bRTgkgH_DFiR",
        "outputId": "a85c7235-25d5-4874-cb50-376f41de3f4c"
      },
      "source": [
        "#testes\n",
        "\n",
        "situacao_jogador1 = Planning_problem(delivery_domain, #domínio\n",
        "    {'PLAYER_LOC': '0', 'CHAVE_NO':False, 'BAU_NO':False, 'PLAYER_COM_CHAVE':False}, #estado inicial\n",
        "    {'PLAYER_LOC':'Objetivo'}) #meta\n",
        "\n",
        "\n",
        "#primeiro jogador\n",
        "print(\"\\nJogador 1 começa jogar\\n\")\n",
        "\n",
        "tempo_inicio = marcar_tempo()\n",
        "bau_encontrado = dfs(situacao_jogador1, 0, localizacao_key, localizacao_bau, Full_Grafo)\n",
        "tempo_final = marcar_tempo()\n",
        "\n",
        "pontos_jogador1 = 0\n",
        "for i in range(0, bau_encontrado):\n",
        "  pontos_jogador1 = pontos_jogador1 + 1\n",
        "\n",
        "print(\"Quantidade de baús abertos: \", pontos_jogador1)\n",
        "\n",
        "valor_tempo = tempo_final - tempo_inicio\n",
        "print(\"Tempo Gasto pelo jogador 1: \", valor_tempo)\n",
        "print(\"Tempo Gasto pelo jogador 1 + limite(20% do tempo do jogador 1): \", valor_tempo + (valor_tempo * 0.2))\n",
        "\n",
        " "
      ],
      "execution_count": null,
      "outputs": [
        {
          "output_type": "stream",
          "name": "stdout",
          "text": [
            "\n",
            "Jogador 1 começa jogar\n",
            "\n",
            "Quantidade de baús abertos:  3\n",
            "Tempo Gasto pelo jogador 1:  0.0001728534698486328\n",
            "Tempo Gasto pelo jogador 1 + limite(20% do tempo do jogador 1):  0.00020742416381835938\n"
          ]
        }
      ]
    },
    {
      "cell_type": "markdown",
      "metadata": {
        "id": "TVEEXHJGD6OZ"
      },
      "source": [
        "Ao comparar a solução com a solução apresentada na ferramenta citada, quando se utiliza a busca em largura, a primeira impressão que se tem é que a ferramenta leva muito mais tempo para a conclusão do problema, no entanto, apesar disto, ao utilizar a própria ferramenta para comparar a busca em largura em relação a busca em profundidade nota-se que a busca em largura sempre apresenta o melhor resultado, embora este seja mais demorado."
      ]
    },
    {
      "cell_type": "markdown",
      "metadata": {
        "id": "mzSdTpNCF1lh"
      },
      "source": [
        "# Ánalise da metodologia utilizada\n",
        "\n",
        "Para solução do problema foi aplicada o método de planejamento Strips em conjunto com uma busca em profundidade. \n",
        "\n",
        "Tal estratégia não é a estratégia que possuí a maior otimicidade, devido também as limitações que a própria busca em profundidade possui, no entanto suas vantagens estão presentes no custo computacional reduzido. \n",
        "\n",
        "O planejador Strips é extremamente limitado para \"casos reais\" onde existe a ação de agentes não deterministicos, a presença de baús com itens de pontuações aleatórias que são definidas somente no momento da abertura dos baús é uma maneira de aproximar essa ação de tais fatores \"não previsiveis\". O algoritmo não tem como saber qual será o caminho que lhe garantirá mais pontos, e, por esta razão, teria que tentar abrir o maior número de baús possíveis para alcançar a maior pontuação. Além das limitações que o modelo possuí no caso de houver um grafo de ações possíveis que crescem exponencialmente, supondo que, o nosso grafo possua muitos nós (cidades) a lista de ações do nosso planejador Strips cresceria exponencialmente, aumentando muito a complexidade do problema.\n",
        "\n",
        "Para problemas simples, de baixa complexidade, como foi o caso apresentado na implementação (um grafo com 7 nós) o planejador STRIPS teve um desempenho aceitável, no entanto, o fato dos baús terem valores aleatórios, faz com que o planejador não seja capaz de procurar uma estimativa de caminho com maior pontuação, a não ser que o agente faça diversos percursos várias vezes, e, identifique a maior pontuação, exigindo assim um custo computacional que pode se elevar conforme a quantidade de nós do grafo aumenta"
      ]
    },
    {
      "cell_type": "code",
      "metadata": {
        "id": "NvOdcp5zEN84"
      },
      "source": [
        ""
      ],
      "execution_count": null,
      "outputs": []
    }
  ]
}