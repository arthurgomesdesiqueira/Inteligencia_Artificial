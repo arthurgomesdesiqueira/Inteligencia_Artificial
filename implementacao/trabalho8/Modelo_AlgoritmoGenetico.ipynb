{
  "nbformat": 4,
  "nbformat_minor": 0,
  "metadata": {
    "colab": {
      "name": "Modelo-AlgoritmoGenetico.ipynb",
      "provenance": [],
      "collapsed_sections": []
    },
    "kernelspec": {
      "name": "python3",
      "display_name": "Python 3"
    },
    "language_info": {
      "name": "python"
    }
  },
  "cells": [
    {
      "cell_type": "markdown",
      "metadata": {
        "id": "OCrQJv6g0iJA"
      },
      "source": [
        "**Instituto de Informática - UFG**\n",
        "\n",
        "Disciplina: Inteligência Computacional\n",
        "\n",
        "Prof. Cedric Luiz de Carvalho\n",
        "\n",
        "---\n",
        "\n",
        "Aluna(o): Arthur Gomes de Siqueira\n",
        "\n",
        "Aluna(o): Ricardo Ataide de Oliveira Junior\n",
        "\n",
        "---\n",
        "\n",
        "Grupo ( D )\n",
        "\n",
        "---\n",
        "\n",
        "Papel no grupo: \n",
        "\n",
        "---"
      ]
    },
    {
      "cell_type": "markdown",
      "metadata": {
        "id": "5WED2FNI0lqc"
      },
      "source": [
        "#Especificação do problema : Algoritmos genéticos"
      ]
    },
    {
      "cell_type": "markdown",
      "metadata": {
        "id": "Tm9wiyLs0ltI"
      },
      "source": [
        "Os anos de 2020 e 2021 estão sendo anos trágicos. Mais de 156 milhões de pessoas já foram infectadas e mais de 3,25 milhões de pessoas já morreram acometidas pela COVID-19 no mundo. Um grande número de cientistas está trabalhando com afinco para produzir medicamentos que possam minimizar os efeitos do vírus. Um dos fatores que pode influenciar a maior ou menor gravidade da manifestação doença nos pacientes infectados pelo vírus é a sua alimentação.\n",
        "\n",
        "Utilizando as bases de [dados sobre a alimentação](https://www.kaggle.com/mariaren/covid19-healthy-diet-dataset), implemente uma ferramenta computacional, que aplique a técnica de algoritmos genéticos para identificar a melhor dieta alimentar que possa minimizar os efeitos da doença.\n",
        "\n"
      ]
    },
    {
      "cell_type": "markdown",
      "metadata": {
        "id": "cakBonJ60lvh"
      },
      "source": [
        "## O trabalho"
      ]
    },
    {
      "cell_type": "markdown",
      "metadata": {
        "id": "tvg_DDjK0lyo"
      },
      "source": [
        "O trabalho deve ser feito em grupos, conforme definido. Cada grupo deverá entregar apenas um produto final para ser avaliado pelo professor. Apesar do trabalho ser feito em grupos, a avaliação de cada aluno será feita individualmente.\n"
      ]
    },
    {
      "cell_type": "markdown",
      "metadata": {
        "id": "90t2mYpn0l1R"
      },
      "source": [
        "**Recomendações:**\n",
        "\n",
        "   O primeiro passo para resolver um problema é entendê-lo muito bem, considerar o contexto e fazer as abstrações necessárias. A seguir, para não \"reinventar a roda\" é preciso identificar como a comunidade resolveu o problema em questão, ou problemas parecidos, cuja solução possa ser mapeada para situação em análise. Desta forma, deve ser feito um estudo, o mais amplo possível sobre esse assunto. O próximo passo é o grupo se reunir e instanciar o modelo em estudo para o caso específico do problema a ser resolvido. Em paralelo, uma análise rigorosa deve ser feita na base de dados a fim de prepará-la para seu uso no modelo. Finalmente, com o modelo bem compreendido e instanciado e os dados devidamente preparados, a implementação do modelo pode ser feita."
      ]
    },
    {
      "cell_type": "markdown",
      "metadata": {
        "id": "uPvcDru80l4Q"
      },
      "source": [
        "## Divisão de papéis:"
      ]
    },
    {
      "cell_type": "markdown",
      "metadata": {
        "id": "wp2TuEst0l6q"
      },
      "source": [
        "* **Analista de dados:** deverá ficar responsável por fazer uma \"Análise Exploratória de Dados\" (AED), analisando a base de dados fornecida e preparando-a para ser usada na solução do problema. Esta análise deve produzir diversos gráficos que pemitam uma visão geral do comportamento dos dados.\n",
        "\n",
        "* **Engenheiro de conhecimento:** deverá produzir a solução para o problema, utilizando a técnica estudada, o modelo proposto pelo grupo e a base de dados preparada pelo analista de dados.\n",
        "\n"
      ]
    },
    {
      "cell_type": "markdown",
      "metadata": {
        "id": "RyEqufIU0l9u"
      },
      "source": [
        "### Primeira etapa:"
      ]
    },
    {
      "cell_type": "markdown",
      "metadata": {
        "id": "L0nBukh01dv9"
      },
      "source": [
        "(1) **Notebook descrevendo detalhadamente o modelo:**\n",
        "* Um modelo é uma representação abstrata do mundo. No nosso caso, o \"mundo\" é o contexto onde o problema se insere. Desta forma, deve ser analisado com cuidado o que deve e o que não deve ser considerado. Por exemplo, se a base de dados tem 30 colunas, todas elas deverão ser utilizadas na implementação? Algumas poderão ser desconsideradas? Por quê?\n",
        "* Para utilizar a técnica em estudo, é preciso conhecê-la muito bem. Assim, nesta etapa, **deve ser feita uma descrição detalhada do problema e da técnica a ser utilizada.**\n",
        "* Deve ser elaborado um modelo com base na técnica em estudo.\n",
        "* O notebook, descrevendo o problema, a técnica em questão e o modelo elaborado deverá ser submetido na Plataforma Turing, até dia 03/11/2021. Os modelos serão discutidos com a turma no dia 04/11/2021."
      ]
    },
    {
      "cell_type": "markdown",
      "metadata": {
        "id": "bpKq4kP61id0"
      },
      "source": [
        "### Segunda etapa:"
      ]
    },
    {
      "cell_type": "markdown",
      "metadata": {
        "id": "hzsosMug1isW"
      },
      "source": [
        "(2) **Notebook contendo a Análise Exploratória dos Dados**\n",
        "\n",
        "(3) **Notebook contendo a solução para o problema** \n",
        "\n",
        "(4) **Um vídeo explicando detalhadamente como a técnica estudada foi utilizada para resolver o problema proposto** . O vídeo NÃO deve ser uma apresentação do notebook nem deve apresentar detalhes de codificação. Deve trazer uma descrição do problema, do modelo utilizado e da solução desenvolvida, de preferência utilizando slides ou algo parecido. Preferencialmente, o grupo deve enviar um *link* para o local onde o vídeo está armazenado.\n",
        "\n",
        "\n",
        "**Observação:** poderão ser utilizados códigos desenvolvidos pelo grupo e/ou códigos de terceiros. No caso de se usar códigos desenvolvidos por terceiros, o autor desses códigos deve ser devidamente referenciado e os códigos devem ser devidamente documentados (comentários no próprio código e fora dele).\n",
        "\n",
        "Os produtos da segunda etapa deverão ser submetidos na Plataforma Turing até 09/11/2021.\n",
        " "
      ]
    },
    {
      "cell_type": "markdown",
      "metadata": {
        "id": "vJoXwMxP8oag"
      },
      "source": [
        "# Link\n",
        "\n",
        "Link do video: https://drive.google.com/file/d/1bs2KpXsmp3ibG_W93cZpi00wRvUXxqQC/view?usp=sharing"
      ]
    },
    {
      "cell_type": "markdown",
      "metadata": {
        "id": "GcgIG25gitOj"
      },
      "source": [
        "# Descrição do Modelo"
      ]
    },
    {
      "cell_type": "markdown",
      "metadata": {
        "id": "-NsKmfMqiFH2"
      },
      "source": [
        "#Algoritmos genéticos (AGs) como referência"
      ]
    },
    {
      "cell_type": "markdown",
      "metadata": {
        "id": "m47tyYejiHbs"
      },
      "source": [
        "- Os AGs são inspirados em modelos biológicos, com características de busca cega, paralela e estocástica:\n",
        "  - Processos Genéticos de Mendel (1865): como as gerações sucessoras recebem o material genético das gerações progenitoras;\n",
        "  - Teoria da Evolução de Darwin (1859): capacidade de sobrevivência, adaptação e reprodução dos indivíduos;\n",
        "  - Resolução de problemas complexos para os quais não existe um algoritmo eficiente conhecido."
      ]
    },
    {
      "cell_type": "markdown",
      "metadata": {
        "id": "8jEVb_dbiJ6r"
      },
      "source": [
        "##Conceitos (oriundos da genética)"
      ]
    },
    {
      "cell_type": "markdown",
      "metadata": {
        "id": "b5EaBSXkiMFx"
      },
      "source": [
        "- **Genes**: representação de algum parâmetro de acordo com um alfabeto que compõe os cromossomos. \n",
        "\t\n",
        "Ex: ∑={0,1}, ∑ = {1,2,3,4,5}, ∑ = {0.1, 0.2, 0.3, 0.4, 0.5};\n",
        "\n",
        "- **Cromossomos**: cadeia de genes que representam um indivíduo. \n",
        "\n",
        "Ex: \n",
        "\n",
        "  - Cromossomo1 = {4.8; 3.2; 5.3}\n",
        "  - Cromossomo2 = {3; 5; 1}\n",
        "  - Cromossomo3 = {100001011101}"
      ]
    },
    {
      "cell_type": "markdown",
      "metadata": {
        "id": "j4Xt9DNRiNuN"
      },
      "source": [
        "- **Alelos**: diferentes valores de cada gene;\n",
        "\n",
        "- **Locus**: posição de um gene na cadeia;\n",
        "\n",
        "- **Célula diplóide**: células onde os cromossomos se encontram aos pares;\n",
        "\n",
        "- **Célula haplóide**: células com um único cromossomo."
      ]
    },
    {
      "cell_type": "markdown",
      "metadata": {
        "id": "tgmEdeeQiPm5"
      },
      "source": [
        "- **Indivíduos**: na maioria das aplicações em AG, corresponde a um cromossomo, usados para representar as soluções;\n",
        "\n",
        "- **População**: conjunto de indivíduos que irão competir pela sobrevivência e reprodução;\n",
        "\n",
        "- **Geração**: população de um certo período;\n",
        "\n",
        "- **Função de Aptidão**: usada para medir a habilidade do indivíduo para sobreviver e se reproduzir;"
      ]
    },
    {
      "cell_type": "markdown",
      "metadata": {
        "id": "25oSSLFLiRat"
      },
      "source": [
        "##Processo\n",
        "\n",
        "1. Gera-se um conjunto de valores (aleatórios) iniciais (1ª geração);\n",
        "\n",
        "2. Avalia-se os indivíduos dessa geração para ver se algum deles é a solução do problema;\n",
        "\n",
        "3. Em caso negativo, os indivíduos mais próximos da solução são combinados para se obter uma nova geração;\n",
        "\n",
        "4. Retorna à etapa 2."
      ]
    },
    {
      "cell_type": "markdown",
      "metadata": {
        "id": "1gbZ3wN7iUaP"
      },
      "source": [
        "##Seleção\n",
        "\n",
        "Escolha dos indivíduos para a reprodução, sendo as mais comuns:\n",
        "\n",
        "- **Aleatória**: escolhe-se dois indivíduos quaisquer da população;\n",
        "\n",
        "- **Por torneio**: escolhe-se dois indivíduos que disputam um torneio de acordo com uma regra pré-estabelecida. O Processo é então repetido para a escolha do segundo indivíduo;\n",
        "\n",
        "- **Usando a roleta**: calcula-se a habilidade de todos os indivíduos, que corresponderá proporcionalmente aos setores de uma roleta, aumentando as chances dos indivíduos mais aptos."
      ]
    },
    {
      "cell_type": "markdown",
      "metadata": {
        "id": "6_j9m91siWtW"
      },
      "source": [
        "## Cruzamento (*crossover* ou recombinação)"
      ]
    },
    {
      "cell_type": "markdown",
      "metadata": {
        "id": "YIDZ29LciYXw"
      },
      "source": [
        "- É o cruzamento de material genético de dois indivíduos.\n",
        "- Pode ser feito através de  pontos de corte posicionados aleatoriamente entre os bits.\n",
        "    \n",
        "   **Ex1**: Pai1=11001 e Pai2=01111, com um ponto de corte entre o 3º e 4º bits. \n",
        "      - Filho1: 11011\n",
        "      - Filho2: 01101\n",
        "    \n",
        "    **Ex 2**: Pai3 = 0111001 e Pai4=1110111, com um corte entre o 2º e 3º bits, e o outro corte entre o 5º e o 6º bits.\n",
        "      - Filho1: 0110101\n",
        "      - Filho2: 1111011\n",
        "    \n",
        "- Pode ser usada também a opção de máscara de bits de mesmo tamanho dos cromossomos (recombinação uniforme, com ponto de corte dinâmico).\n",
        "     - Filho1 = bit 1 na máscara, o gene será do progenitor 1, caso contrário será do progenitor 2;\n",
        "     - Filho2 = bit 0 na máscara, o gene será do progenitor 2, caso contrário será do progenitor 1;\n",
        "     \n",
        "\n",
        "\n",
        "   **Ex3**: Pai1 = 10010, Pai2 = 11100, máscara = 10101 \n",
        "\n",
        "       - Filho1 = 10110 \n",
        "       - Filho2 = 11000\n"
      ]
    },
    {
      "cell_type": "markdown",
      "metadata": {
        "id": "LeqzA4xPicMa"
      },
      "source": [
        "\n",
        "\n",
        "Para trabalhar com valores inteiros ou reais, evitando perdas de precisão, foram desenvolvidas as técnicas ***Single Arithmetic Crossover ***e ***Simple Arithmetic Crossover*** :\n",
        "\n",
        "     Dados utilizados:\n",
        "    \n",
        "     Pai1 = {x1,x2,…,xn} e Pai2 = {y1,y2,…,yn}, \n",
        "\n",
        "     - onde xi e yi são valores inteiros ou reais;\n",
        "\n",
        "     - K será um valor aleatório e inteiro que determina a posição dos genes a serem cruzados;\n",
        "\n",
        "     - α є [0,1], também real e aleatório."
      ]
    },
    {
      "cell_type": "markdown",
      "metadata": {
        "id": "1409DMtWid4S"
      },
      "source": [
        "***Single Arithmetic Crossover***: os filhos gerados são:\n",
        "\n",
        "Filho1 = {x1,x2,…,αyk+(1- α)xk,…,xn}\n",
        "\n",
        "Filho2 = {y1,y2,…,αxk+(1- α)yk,…,yn}\n",
        "\n",
        "\n",
        "**Ex:** Pai1 = {0.5,1.0,1.5,2.0}, Pai2 = {0.2,0.7,0.2,0.7} α=0.4 e k = 3 \n",
        "\n",
        "  - Filho1 = {0.5,1.0,(0.4)(0.2)+(0.6)(1.5),2.0} = {0.5,1.0,0.98,2.0}\n",
        "\n",
        "  - Filho2 = {0.2,0.7,(0.4)(1.5)+(0.6)(0.2),0.7} = {0.2,0.7,0.72,0.7}\n"
      ]
    },
    {
      "cell_type": "markdown",
      "metadata": {
        "id": "lHWNNkdEifdu"
      },
      "source": [
        "***Simple Arithmetic Crossover***: os filhos gerados são:\n",
        "\n",
        "Filho1 = {x1,x2,…,αyk+(1- α)xk,…,αyn+(1- α)xn}\n",
        "\n",
        "Filho2 = {y1,y2,…,αxk+(1- α)yk,…,αxn+(1- α)yn}\n",
        "\n",
        "**Ex:** Pai1 = {0.5,1.0,1.5,2.0},Pai2 = {0.2,0.7,0.2,0.7} α=0.4 e k = 3 \n",
        "\n",
        "  - Filho1 = {0.5,1.0,(0.4)(0.2)+(0.6)(1.5),(0.4)(0.7)+(0.6)(2.0)} = {0.5,1.0,0.98,1.48}\n",
        "\n",
        "  - Filho2 = {0.2,0.7,(0.4)(1.5)+(0.6)(0.2),(0.4)(2.0)+(0.6)(0.7)} = {0.2,0.7,0.72,1.22}\n"
      ]
    },
    {
      "cell_type": "markdown",
      "metadata": {
        "id": "luNvUqL-ihM_"
      },
      "source": [
        "##Mutação\n",
        "\n",
        "O cromossomo pode ser modificado em alguma de suas partes, assumindo características que não pertencem aos pais;\n",
        "\n",
        "Ex1: ∑ = {0,1}, C1 = 10010, mutação no 5º gene, C1’ = 10011;\n",
        "\n",
        "Ex2: ∑ = {1,2,3,4,5,6,7,8}, C1 = 13254, mutação no 3º gene, C1’ = 13654.\n",
        "\n",
        "Ex3: ∑ = {1,2,3,4,5,6,7,8}, α є [1,2], p/ α=2 e \n",
        "C1 = 11452, mutação no 2º gene, C1’ = 1(1+α)452, C1’ = 13452.\n",
        "\n",
        "\n",
        "**A probabilidade da mutação ocorrer é muito baixa (em torno de 1%).**"
      ]
    },
    {
      "cell_type": "markdown",
      "metadata": {
        "id": "TRMR_SMXijfj"
      },
      "source": [
        "##Medida de Qualidade"
      ]
    },
    {
      "cell_type": "markdown",
      "metadata": {
        "id": "fcqbIleoilel"
      },
      "source": [
        "- Fornecer, através de uma função de avaliação, uma medida de qualidade das soluções codificadas pelo AG.\n",
        "- A escolha da função depende do problema a ser resolvido.\n",
        "- Em casos de funções de minimização ou maximização de funções matemáticas, a função de avaliação pode ser a própria função matemática.\n",
        "- Nos outros casos, deve-se estudar uma forma de medir a qualidade dos indivíduos de forma proporcional ao seu mérito individual.\n",
        "- Para lidar com problemas de indivíduos inviáveis, geralmente utiliza-se uma estratégia de penalização, de forma a diminuir a probabilidade de escolha desses indivíduos.\n",
        "- A penalização pode ser implementada de diversas formas, dependendo do contexto do problema. "
      ]
    },
    {
      "cell_type": "markdown",
      "metadata": {
        "id": "dIGS-IURjPH2"
      },
      "source": [
        "## Vantagens\n",
        "\n",
        "- Uma vantagem dos AG é o seu paralelismo. AG percorre o espaço das soluções usando mais indivíduos (e com genótipos em vez de fenótipos) de forma que eles são menos susceptíveis de \"enroscar\" em um extremo local do que os outros métodos.\n",
        "- São modulares e facilmente adaptáveis a qualquer tipo de problema, mesmo os mais complexos.\n",
        "- São métodos de otimização global, mais robustos a ótimos locais.\n",
        "- Necessitam de pouca informação sobre o problema, basicamente, custo ou ganho de cada possível solução.\n",
        "- Podem otimizar um grande número de parâmetros discretos, contínuos ou combinações deles.\n",
        "- Realizam buscas simultâneas em várias regiões do espaço de busca (paralelismo inerente).\n",
        "- Podem ser eficientemente combinados com outras heurísticas de busca."
      ]
    },
    {
      "cell_type": "markdown",
      "metadata": {
        "id": "BEUNtqm95ko8"
      },
      "source": [
        "## Desvantagens\n",
        "\n",
        "- A desvantagem dos AG é o tempo de processamento. Os AG podem ser mais lentos do que os outros métodos. Porém, desde que possamos terminar o cálculo sem restrições severas de tempo, o tempo mais longo é aceitável (principalmente com os computadores cada vez mais rápidos).\n",
        "- Podem ser bem mais lentos que outros métodos por trabalharem com uma população de soluções.\n",
        "- Dificuldade para se definir um mecanismo apropriado de codificação e avaliação de soluções.\n",
        "- Dificuldade para se ajustar adequadamente os valores de seus parâmetros de desempenho.\n",
        "- Fracos mecanismos de intensificação de busca, ocasionando baixas taxas de convergência."
      ]
    },
    {
      "cell_type": "markdown",
      "metadata": {
        "id": "R50gbTayCcjm"
      },
      "source": [
        "## Proposta de solução\n",
        "\n",
        "A nossa função objetivo é minimizar a diferença entre a soma de penalidades e a soma da quantidade de alimentos. A formulação matemática é descrita abaixo:\n",
        "\n",
        "Sejam, $A$ o conjunto de alimentos, $B$ o conjunto de países, $P = \\{P_m^b, P_c^b, P_o^b, P_d^b\\}$ o conjunto de pesos das penalidades para cada país $b \\in B$, onde $P_m^b$ é a penalidade para mortes, $P_c^b$ a penalidade para casos confirmados, $P_o^b$ o peso para obesidade e $P_d^b$ o peso para desnutrição do país b.\n",
        "\n",
        "- $S_b = \\{0, 1\\}$ representa se o país $b \\in B$ é o país similar encontrado.\n",
        "\n",
        "- $X_i = \\{0, 1\\}$ representa se o alimento $i \\in A$ é proposto pela dieta calculada.\n",
        "- $Y_i \\in \\mathbb{R}$ a quantidade do alimento $i \\in A$ proposto pela dieta calculada. Lembrando que a quantidade máxima de cada alimento são 300 gramas, então $0 \\leq Y_i \\leq 0.3$.\n",
        "\n",
        "Por fim, a função objetivo do problema pode ser representada como:\n",
        "\n",
        "$Min:=$ $ \\sum_{b \\in B} \\left [ S_b \\cdot \\left (P_m^b + P_c^b + P_o^b + P_d^b \\right) \\right ] + \\sum_{i \\in A} \\left [ X_{i} \\cdot Y_{i} \\right ]$"
      ]
    },
    {
      "cell_type": "code",
      "metadata": {
        "id": "bH-pMPyLCbJt"
      },
      "source": [
        ""
      ],
      "execution_count": null,
      "outputs": []
    },
    {
      "cell_type": "markdown",
      "metadata": {
        "id": "_3tCvx1i6wDR"
      },
      "source": [
        "## Outras soluções\n",
        "\n",
        "Outras soluções e outros tipos de aplicações podem ser visto nesses links que eu mandei. Além de dar uma breve explicação do que seria o algoritmo genético, ele fala sobre como aplica-lós em outras aplicações envolvendo o algoritmo genético.\n",
        "\n",
        "https://www.inf.ufsc.br/~mauro.roisenberg/ine5377/Cursos-ICA/CE-intro_apost.pdf\n",
        "\n",
        "O link abaixo é bem parecido com o de cima mas ele foca mais em como solucionar problemas de configuração de redes de distribuição utilizando os Algoritmos genéticos como solução. \n",
        "\n",
        "https://www.scielo.br/j/ca/a/CJc9Y4GpQjMfpXpb7yFvpSH/?lang=pt"
      ]
    }
  ]
}